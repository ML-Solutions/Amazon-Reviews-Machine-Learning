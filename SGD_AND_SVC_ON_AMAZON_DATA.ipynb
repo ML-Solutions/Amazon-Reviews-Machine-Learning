{
 "cells": [
  {
   "cell_type": "markdown",
   "metadata": {
    "colab_type": "text",
    "id": "nfrKTs8YgMeQ"
   },
   "source": [
    "## This Notebook Uses The Amazon Reviews Dataset And Predict Whether The Review Is Positive Or Negative"
   ]
  },
  {
   "cell_type": "markdown",
   "metadata": {
    "colab_type": "text",
    "id": "2sVQ64MSgMeS"
   },
   "source": [
    "Source of data = https://www.kaggle.com/snap/amazon-fine-food-reviews "
   ]
  },
  {
   "cell_type": "code",
   "execution_count": 1,
   "metadata": {
    "colab": {},
    "colab_type": "code",
    "id": "oKEiq-FzgMeU"
   },
   "outputs": [],
   "source": [
    "# importing the libraries\n",
    "import pandas as pd\n",
    "import numpy as np\n",
    "import matplotlib.pyplot as plt\n",
    "import sqlite3\n",
    "from sklearn.metrics import accuracy_score,roc_auc_score,roc_curve,confusion_matrix\n",
    "from sklearn.linear_model import SGDClassifier\n",
    "from sklearn.calibration import CalibratedClassifierCV\n",
    "from sklearn.svm import SVC\n",
    "import matplotlib.pyplot as plt\n",
    "import seaborn as sns\n",
    "from tqdm import tqdm\n",
    "import scipy.sparse as mat\n",
    "import warnings\n",
    "warnings.filterwarnings(\"ignore\")\n",
    "import scipy.stats\n",
    "from gensim.models import Word2Vec, KeyedVectors\n",
    "from IPython.display import HTML,display\n",
    "from ipywidgets import interact, interactive, fixed, interact_manual\n",
    "import ipywidgets as widgets"
   ]
  },
  {
   "cell_type": "code",
   "execution_count": 2,
   "metadata": {
    "colab": {
     "base_uri": "https://localhost:8080/",
     "height": 269
    },
    "colab_type": "code",
    "executionInfo": {
     "elapsed": 9834,
     "status": "ok",
     "timestamp": 1549120707777,
     "user": {
      "displayName": "Akash Jain",
      "photoUrl": "https://lh6.googleusercontent.com/-URkka8RJQGo/AAAAAAAAAAI/AAAAAAAAAKQ/rFW0wYatpjA/s64/photo.jpg",
      "userId": "13748978918988779747"
     },
     "user_tz": -330
    },
    "id": "f1tk8cBLitBE",
    "outputId": "20824e17-8f22-4b9e-a4b4-e494a6c49798"
   },
   "outputs": [
    {
     "name": "stdout",
     "output_type": "stream",
     "text": [
      "Requirement already satisfied: eli5 in c:\\programdata\\anaconda3\\lib\\site-packages (0.8.1)\n",
      "Requirement already satisfied: attrs>16.0.0 in c:\\programdata\\anaconda3\\lib\\site-packages (from eli5) (18.2.0)\n",
      "Requirement already satisfied: jinja2 in c:\\programdata\\anaconda3\\lib\\site-packages (from eli5) (2.10)\n",
      "Requirement already satisfied: graphviz in c:\\programdata\\anaconda3\\lib\\site-packages (from eli5) (0.10.1)\n",
      "Requirement already satisfied: typing in c:\\programdata\\anaconda3\\lib\\site-packages (from eli5) (3.6.4)\n",
      "Requirement already satisfied: numpy>=1.9.0 in c:\\programdata\\anaconda3\\lib\\site-packages (from eli5) (1.15.4)\n",
      "Requirement already satisfied: scipy in c:\\programdata\\anaconda3\\lib\\site-packages (from eli5) (1.2.0)\n",
      "Requirement already satisfied: tabulate>=0.7.7 in c:\\programdata\\anaconda3\\lib\\site-packages (from eli5) (0.8.3)\n",
      "Requirement already satisfied: six in c:\\programdata\\anaconda3\\lib\\site-packages (from eli5) (1.12.0)\n",
      "Requirement already satisfied: scikit-learn>=0.18 in c:\\programdata\\anaconda3\\lib\\site-packages (from eli5) (0.20.2)\n",
      "Requirement already satisfied: MarkupSafe>=0.23 in c:\\programdata\\anaconda3\\lib\\site-packages (from jinja2->eli5) (1.1.0)\n"
     ]
    }
   ],
   "source": [
    "!pip install eli5"
   ]
  },
  {
   "cell_type": "code",
   "execution_count": 3,
   "metadata": {
    "colab": {},
    "colab_type": "code",
    "id": "Y-jPykv_iyUO"
   },
   "outputs": [],
   "source": [
    "import eli5"
   ]
  },
  {
   "cell_type": "code",
   "execution_count": 4,
   "metadata": {
    "colab": {},
    "colab_type": "code",
    "id": "qH5O4V5-gMeZ"
   },
   "outputs": [],
   "source": [
    "data = pd.read_csv(\"Reviews.csv\")"
   ]
  },
  {
   "cell_type": "code",
   "execution_count": 5,
   "metadata": {
    "colab": {},
    "colab_type": "code",
    "id": "UTqq9BJHgMee",
    "scrolled": true
   },
   "outputs": [],
   "source": [
    "data = data[data.Score!=3]"
   ]
  },
  {
   "cell_type": "code",
   "execution_count": 6,
   "metadata": {
    "colab": {
     "base_uri": "https://localhost:8080/",
     "height": 34
    },
    "colab_type": "code",
    "executionInfo": {
     "elapsed": 12903,
     "status": "ok",
     "timestamp": 1549120711988,
     "user": {
      "displayName": "Akash Jain",
      "photoUrl": "https://lh6.googleusercontent.com/-URkka8RJQGo/AAAAAAAAAAI/AAAAAAAAAKQ/rFW0wYatpjA/s64/photo.jpg",
      "userId": "13748978918988779747"
     },
     "user_tz": -330
    },
    "id": "mtiGq7L2gMeo",
    "outputId": "adeaa1e8-6ee5-45b2-ad80-d55f26403996"
   },
   "outputs": [
    {
     "data": {
      "text/plain": [
       "pandas.core.frame.DataFrame"
      ]
     },
     "execution_count": 6,
     "metadata": {},
     "output_type": "execute_result"
    }
   ],
   "source": [
    "type(data)"
   ]
  },
  {
   "cell_type": "code",
   "execution_count": 7,
   "metadata": {
    "colab": {
     "base_uri": "https://localhost:8080/",
     "height": 34
    },
    "colab_type": "code",
    "executionInfo": {
     "elapsed": 2576,
     "status": "ok",
     "timestamp": 1549120714807,
     "user": {
      "displayName": "Akash Jain",
      "photoUrl": "https://lh6.googleusercontent.com/-URkka8RJQGo/AAAAAAAAAAI/AAAAAAAAAKQ/rFW0wYatpjA/s64/photo.jpg",
      "userId": "13748978918988779747"
     },
     "user_tz": -330
    },
    "id": "eY7FwJ4BgMex",
    "outputId": "527c1a70-376d-4583-e8c6-3e8a766591cc"
   },
   "outputs": [
    {
     "data": {
      "text/plain": [
       "(525814, 10)"
      ]
     },
     "execution_count": 7,
     "metadata": {},
     "output_type": "execute_result"
    }
   ],
   "source": [
    "data.shape"
   ]
  },
  {
   "cell_type": "code",
   "execution_count": 8,
   "metadata": {
    "colab": {
     "base_uri": "https://localhost:8080/",
     "height": 67
    },
    "colab_type": "code",
    "executionInfo": {
     "elapsed": 3372,
     "status": "ok",
     "timestamp": 1549120715756,
     "user": {
      "displayName": "Akash Jain",
      "photoUrl": "https://lh6.googleusercontent.com/-URkka8RJQGo/AAAAAAAAAAI/AAAAAAAAAKQ/rFW0wYatpjA/s64/photo.jpg",
      "userId": "13748978918988779747"
     },
     "user_tz": -330
    },
    "id": "LtvoYa57gMe2",
    "outputId": "6357b7a7-bd56-46d1-c256-3cf688f01046"
   },
   "outputs": [
    {
     "data": {
      "text/plain": [
       "Index(['Id', 'ProductId', 'UserId', 'ProfileName', 'HelpfulnessNumerator',\n",
       "       'HelpfulnessDenominator', 'Score', 'Time', 'Summary', 'Text'],\n",
       "      dtype='object')"
      ]
     },
     "execution_count": 8,
     "metadata": {},
     "output_type": "execute_result"
    }
   ],
   "source": [
    "data.columns"
   ]
  },
  {
   "cell_type": "code",
   "execution_count": 9,
   "metadata": {},
   "outputs": [],
   "source": [
    "data = data[:20000]"
   ]
  },
  {
   "cell_type": "code",
   "execution_count": 10,
   "metadata": {
    "colab": {
     "base_uri": "https://localhost:8080/",
     "height": 34
    },
    "colab_type": "code",
    "executionInfo": {
     "elapsed": 3221,
     "status": "ok",
     "timestamp": 1549120715760,
     "user": {
      "displayName": "Akash Jain",
      "photoUrl": "https://lh6.googleusercontent.com/-URkka8RJQGo/AAAAAAAAAAI/AAAAAAAAAKQ/rFW0wYatpjA/s64/photo.jpg",
      "userId": "13748978918988779747"
     },
     "user_tz": -330
    },
    "id": "YoMCZ2OHgMe7",
    "outputId": "223ce58c-2475-402e-ec87-d91ce724d8ec"
   },
   "outputs": [
    {
     "data": {
      "text/plain": [
       "2715"
      ]
     },
     "execution_count": 10,
     "metadata": {},
     "output_type": "execute_result"
    }
   ],
   "source": [
    "data['ProductId'].nunique()"
   ]
  },
  {
   "cell_type": "code",
   "execution_count": 11,
   "metadata": {
    "colab": {
     "base_uri": "https://localhost:8080/",
     "height": 34
    },
    "colab_type": "code",
    "executionInfo": {
     "elapsed": 3107,
     "status": "ok",
     "timestamp": 1549120715760,
     "user": {
      "displayName": "Akash Jain",
      "photoUrl": "https://lh6.googleusercontent.com/-URkka8RJQGo/AAAAAAAAAAI/AAAAAAAAAKQ/rFW0wYatpjA/s64/photo.jpg",
      "userId": "13748978918988779747"
     },
     "user_tz": -330
    },
    "id": "Z_ZP7fWVgMfA",
    "outputId": "fcef8283-4d7e-4860-e2fb-03b28b45f74f"
   },
   "outputs": [
    {
     "data": {
      "text/plain": [
       "17788"
      ]
     },
     "execution_count": 11,
     "metadata": {},
     "output_type": "execute_result"
    }
   ],
   "source": [
    "data['UserId'].nunique()"
   ]
  },
  {
   "cell_type": "code",
   "execution_count": 12,
   "metadata": {
    "colab": {},
    "colab_type": "code",
    "id": "kmbD9gtcgMfG"
   },
   "outputs": [],
   "source": [
    "# To predict the polarity of review, we have to use the scores provided in the data and hence we will convert the score\n",
    "# into binary values\n",
    "def Classifier(x):\n",
    "    if x<3:\n",
    "        return 0\n",
    "    return 1\n",
    "data['Score']=data['Score'].map(Classifier)"
   ]
  },
  {
   "cell_type": "code",
   "execution_count": 13,
   "metadata": {
    "colab": {
     "base_uri": "https://localhost:8080/",
     "height": 279
    },
    "colab_type": "code",
    "executionInfo": {
     "elapsed": 2863,
     "status": "ok",
     "timestamp": 1549120715767,
     "user": {
      "displayName": "Akash Jain",
      "photoUrl": "https://lh6.googleusercontent.com/-URkka8RJQGo/AAAAAAAAAAI/AAAAAAAAAKQ/rFW0wYatpjA/s64/photo.jpg",
      "userId": "13748978918988779747"
     },
     "user_tz": -330
    },
    "id": "N5EEYWp2gMfM",
    "outputId": "1debcb0e-1198-46de-9ef1-9fef2752a26c"
   },
   "outputs": [
    {
     "data": {
      "text/html": [
       "<div>\n",
       "<style scoped>\n",
       "    .dataframe tbody tr th:only-of-type {\n",
       "        vertical-align: middle;\n",
       "    }\n",
       "\n",
       "    .dataframe tbody tr th {\n",
       "        vertical-align: top;\n",
       "    }\n",
       "\n",
       "    .dataframe thead th {\n",
       "        text-align: right;\n",
       "    }\n",
       "</style>\n",
       "<table border=\"1\" class=\"dataframe\">\n",
       "  <thead>\n",
       "    <tr style=\"text-align: right;\">\n",
       "      <th></th>\n",
       "      <th>Id</th>\n",
       "      <th>ProductId</th>\n",
       "      <th>UserId</th>\n",
       "      <th>ProfileName</th>\n",
       "      <th>HelpfulnessNumerator</th>\n",
       "      <th>HelpfulnessDenominator</th>\n",
       "      <th>Score</th>\n",
       "      <th>Time</th>\n",
       "      <th>Summary</th>\n",
       "      <th>Text</th>\n",
       "    </tr>\n",
       "  </thead>\n",
       "  <tbody>\n",
       "    <tr>\n",
       "      <th>0</th>\n",
       "      <td>1</td>\n",
       "      <td>B001E4KFG0</td>\n",
       "      <td>A3SGXH7AUHU8GW</td>\n",
       "      <td>delmartian</td>\n",
       "      <td>1</td>\n",
       "      <td>1</td>\n",
       "      <td>1</td>\n",
       "      <td>1303862400</td>\n",
       "      <td>Good Quality Dog Food</td>\n",
       "      <td>I have bought several of the Vitality canned d...</td>\n",
       "    </tr>\n",
       "    <tr>\n",
       "      <th>1</th>\n",
       "      <td>2</td>\n",
       "      <td>B00813GRG4</td>\n",
       "      <td>A1D87F6ZCVE5NK</td>\n",
       "      <td>dll pa</td>\n",
       "      <td>0</td>\n",
       "      <td>0</td>\n",
       "      <td>0</td>\n",
       "      <td>1346976000</td>\n",
       "      <td>Not as Advertised</td>\n",
       "      <td>Product arrived labeled as Jumbo Salted Peanut...</td>\n",
       "    </tr>\n",
       "    <tr>\n",
       "      <th>2</th>\n",
       "      <td>3</td>\n",
       "      <td>B000LQOCH0</td>\n",
       "      <td>ABXLMWJIXXAIN</td>\n",
       "      <td>Natalia Corres \"Natalia Corres\"</td>\n",
       "      <td>1</td>\n",
       "      <td>1</td>\n",
       "      <td>1</td>\n",
       "      <td>1219017600</td>\n",
       "      <td>\"Delight\" says it all</td>\n",
       "      <td>This is a confection that has been around a fe...</td>\n",
       "    </tr>\n",
       "    <tr>\n",
       "      <th>3</th>\n",
       "      <td>4</td>\n",
       "      <td>B000UA0QIQ</td>\n",
       "      <td>A395BORC6FGVXV</td>\n",
       "      <td>Karl</td>\n",
       "      <td>3</td>\n",
       "      <td>3</td>\n",
       "      <td>0</td>\n",
       "      <td>1307923200</td>\n",
       "      <td>Cough Medicine</td>\n",
       "      <td>If you are looking for the secret ingredient i...</td>\n",
       "    </tr>\n",
       "    <tr>\n",
       "      <th>4</th>\n",
       "      <td>5</td>\n",
       "      <td>B006K2ZZ7K</td>\n",
       "      <td>A1UQRSCLF8GW1T</td>\n",
       "      <td>Michael D. Bigham \"M. Wassir\"</td>\n",
       "      <td>0</td>\n",
       "      <td>0</td>\n",
       "      <td>1</td>\n",
       "      <td>1350777600</td>\n",
       "      <td>Great taffy</td>\n",
       "      <td>Great taffy at a great price.  There was a wid...</td>\n",
       "    </tr>\n",
       "  </tbody>\n",
       "</table>\n",
       "</div>"
      ],
      "text/plain": [
       "   Id   ProductId          UserId                      ProfileName  \\\n",
       "0   1  B001E4KFG0  A3SGXH7AUHU8GW                       delmartian   \n",
       "1   2  B00813GRG4  A1D87F6ZCVE5NK                           dll pa   \n",
       "2   3  B000LQOCH0   ABXLMWJIXXAIN  Natalia Corres \"Natalia Corres\"   \n",
       "3   4  B000UA0QIQ  A395BORC6FGVXV                             Karl   \n",
       "4   5  B006K2ZZ7K  A1UQRSCLF8GW1T    Michael D. Bigham \"M. Wassir\"   \n",
       "\n",
       "   HelpfulnessNumerator  HelpfulnessDenominator  Score        Time  \\\n",
       "0                     1                       1      1  1303862400   \n",
       "1                     0                       0      0  1346976000   \n",
       "2                     1                       1      1  1219017600   \n",
       "3                     3                       3      0  1307923200   \n",
       "4                     0                       0      1  1350777600   \n",
       "\n",
       "                 Summary                                               Text  \n",
       "0  Good Quality Dog Food  I have bought several of the Vitality canned d...  \n",
       "1      Not as Advertised  Product arrived labeled as Jumbo Salted Peanut...  \n",
       "2  \"Delight\" says it all  This is a confection that has been around a fe...  \n",
       "3         Cough Medicine  If you are looking for the secret ingredient i...  \n",
       "4            Great taffy  Great taffy at a great price.  There was a wid...  "
      ]
     },
     "execution_count": 13,
     "metadata": {},
     "output_type": "execute_result"
    }
   ],
   "source": [
    "data.head(5)"
   ]
  },
  {
   "cell_type": "code",
   "execution_count": 14,
   "metadata": {
    "colab": {},
    "colab_type": "code",
    "id": "vH52y1f2gMfS"
   },
   "outputs": [],
   "source": [
    "final_data = data.drop_duplicates(subset = ['UserId','ProfileName','Time','Text'])"
   ]
  },
  {
   "cell_type": "code",
   "execution_count": 15,
   "metadata": {
    "colab": {},
    "colab_type": "code",
    "id": "742F_tuogMfX"
   },
   "outputs": [],
   "source": [
    "final_data = final_data.dropna()"
   ]
  },
  {
   "cell_type": "code",
   "execution_count": 16,
   "metadata": {
    "colab": {
     "base_uri": "https://localhost:8080/",
     "height": 279
    },
    "colab_type": "code",
    "executionInfo": {
     "elapsed": 3810,
     "status": "ok",
     "timestamp": 1549120717862,
     "user": {
      "displayName": "Akash Jain",
      "photoUrl": "https://lh6.googleusercontent.com/-URkka8RJQGo/AAAAAAAAAAI/AAAAAAAAAKQ/rFW0wYatpjA/s64/photo.jpg",
      "userId": "13748978918988779747"
     },
     "user_tz": -330
    },
    "id": "dEcoa80YgMff",
    "outputId": "8752fc64-4941-419d-804d-04816daea724"
   },
   "outputs": [
    {
     "data": {
      "text/html": [
       "<div>\n",
       "<style scoped>\n",
       "    .dataframe tbody tr th:only-of-type {\n",
       "        vertical-align: middle;\n",
       "    }\n",
       "\n",
       "    .dataframe tbody tr th {\n",
       "        vertical-align: top;\n",
       "    }\n",
       "\n",
       "    .dataframe thead th {\n",
       "        text-align: right;\n",
       "    }\n",
       "</style>\n",
       "<table border=\"1\" class=\"dataframe\">\n",
       "  <thead>\n",
       "    <tr style=\"text-align: right;\">\n",
       "      <th></th>\n",
       "      <th>Id</th>\n",
       "      <th>ProductId</th>\n",
       "      <th>UserId</th>\n",
       "      <th>ProfileName</th>\n",
       "      <th>HelpfulnessNumerator</th>\n",
       "      <th>HelpfulnessDenominator</th>\n",
       "      <th>Score</th>\n",
       "      <th>Time</th>\n",
       "      <th>Summary</th>\n",
       "      <th>Text</th>\n",
       "    </tr>\n",
       "  </thead>\n",
       "  <tbody>\n",
       "    <tr>\n",
       "      <th>0</th>\n",
       "      <td>1</td>\n",
       "      <td>B001E4KFG0</td>\n",
       "      <td>A3SGXH7AUHU8GW</td>\n",
       "      <td>delmartian</td>\n",
       "      <td>1</td>\n",
       "      <td>1</td>\n",
       "      <td>1</td>\n",
       "      <td>1303862400</td>\n",
       "      <td>Good Quality Dog Food</td>\n",
       "      <td>I have bought several of the Vitality canned d...</td>\n",
       "    </tr>\n",
       "    <tr>\n",
       "      <th>1</th>\n",
       "      <td>2</td>\n",
       "      <td>B00813GRG4</td>\n",
       "      <td>A1D87F6ZCVE5NK</td>\n",
       "      <td>dll pa</td>\n",
       "      <td>0</td>\n",
       "      <td>0</td>\n",
       "      <td>0</td>\n",
       "      <td>1346976000</td>\n",
       "      <td>Not as Advertised</td>\n",
       "      <td>Product arrived labeled as Jumbo Salted Peanut...</td>\n",
       "    </tr>\n",
       "    <tr>\n",
       "      <th>2</th>\n",
       "      <td>3</td>\n",
       "      <td>B000LQOCH0</td>\n",
       "      <td>ABXLMWJIXXAIN</td>\n",
       "      <td>Natalia Corres \"Natalia Corres\"</td>\n",
       "      <td>1</td>\n",
       "      <td>1</td>\n",
       "      <td>1</td>\n",
       "      <td>1219017600</td>\n",
       "      <td>\"Delight\" says it all</td>\n",
       "      <td>This is a confection that has been around a fe...</td>\n",
       "    </tr>\n",
       "    <tr>\n",
       "      <th>3</th>\n",
       "      <td>4</td>\n",
       "      <td>B000UA0QIQ</td>\n",
       "      <td>A395BORC6FGVXV</td>\n",
       "      <td>Karl</td>\n",
       "      <td>3</td>\n",
       "      <td>3</td>\n",
       "      <td>0</td>\n",
       "      <td>1307923200</td>\n",
       "      <td>Cough Medicine</td>\n",
       "      <td>If you are looking for the secret ingredient i...</td>\n",
       "    </tr>\n",
       "    <tr>\n",
       "      <th>4</th>\n",
       "      <td>5</td>\n",
       "      <td>B006K2ZZ7K</td>\n",
       "      <td>A1UQRSCLF8GW1T</td>\n",
       "      <td>Michael D. Bigham \"M. Wassir\"</td>\n",
       "      <td>0</td>\n",
       "      <td>0</td>\n",
       "      <td>1</td>\n",
       "      <td>1350777600</td>\n",
       "      <td>Great taffy</td>\n",
       "      <td>Great taffy at a great price.  There was a wid...</td>\n",
       "    </tr>\n",
       "  </tbody>\n",
       "</table>\n",
       "</div>"
      ],
      "text/plain": [
       "   Id   ProductId          UserId                      ProfileName  \\\n",
       "0   1  B001E4KFG0  A3SGXH7AUHU8GW                       delmartian   \n",
       "1   2  B00813GRG4  A1D87F6ZCVE5NK                           dll pa   \n",
       "2   3  B000LQOCH0   ABXLMWJIXXAIN  Natalia Corres \"Natalia Corres\"   \n",
       "3   4  B000UA0QIQ  A395BORC6FGVXV                             Karl   \n",
       "4   5  B006K2ZZ7K  A1UQRSCLF8GW1T    Michael D. Bigham \"M. Wassir\"   \n",
       "\n",
       "   HelpfulnessNumerator  HelpfulnessDenominator  Score        Time  \\\n",
       "0                     1                       1      1  1303862400   \n",
       "1                     0                       0      0  1346976000   \n",
       "2                     1                       1      1  1219017600   \n",
       "3                     3                       3      0  1307923200   \n",
       "4                     0                       0      1  1350777600   \n",
       "\n",
       "                 Summary                                               Text  \n",
       "0  Good Quality Dog Food  I have bought several of the Vitality canned d...  \n",
       "1      Not as Advertised  Product arrived labeled as Jumbo Salted Peanut...  \n",
       "2  \"Delight\" says it all  This is a confection that has been around a fe...  \n",
       "3         Cough Medicine  If you are looking for the secret ingredient i...  \n",
       "4            Great taffy  Great taffy at a great price.  There was a wid...  "
      ]
     },
     "execution_count": 16,
     "metadata": {},
     "output_type": "execute_result"
    }
   ],
   "source": [
    "final_data.head(5)"
   ]
  },
  {
   "cell_type": "markdown",
   "metadata": {
    "colab_type": "text",
    "id": "TkF69J8IgMgX"
   },
   "source": [
    "What I find now is that there are 2 rows of data where helpfulness denominator is greater than numerator in my 5000 rows"
   ]
  },
  {
   "cell_type": "code",
   "execution_count": 17,
   "metadata": {
    "colab": {},
    "colab_type": "code",
    "id": "NqGfGmEtgMga"
   },
   "outputs": [],
   "source": [
    "final_data=final_data[final_data.HelpfulnessNumerator<=final_data.HelpfulnessDenominator]"
   ]
  },
  {
   "cell_type": "code",
   "execution_count": 18,
   "metadata": {},
   "outputs": [
    {
     "data": {
      "text/plain": [
       "1    0.844218\n",
       "0    0.155782\n",
       "Name: Score, dtype: float64"
      ]
     },
     "execution_count": 18,
     "metadata": {},
     "output_type": "execute_result"
    }
   ],
   "source": [
    "final_data['Score'].value_counts(normalize = True)"
   ]
  },
  {
   "cell_type": "markdown",
   "metadata": {
    "colab_type": "text",
    "id": "frq_Vi4IgMgs"
   },
   "source": [
    "84% of the reviews are positive, and 16% are negative."
   ]
  },
  {
   "cell_type": "markdown",
   "metadata": {
    "colab_type": "text",
    "id": "4bQVUCyPgMg-"
   },
   "source": [
    "#### Adding another feature - length of text of review"
   ]
  },
  {
   "cell_type": "code",
   "execution_count": 19,
   "metadata": {
    "colab": {
     "base_uri": "https://localhost:8080/",
     "height": 34
    },
    "colab_type": "code",
    "executionInfo": {
     "elapsed": 2207,
     "status": "ok",
     "timestamp": 1549120719054,
     "user": {
      "displayName": "Akash Jain",
      "photoUrl": "https://lh6.googleusercontent.com/-URkka8RJQGo/AAAAAAAAAAI/AAAAAAAAAKQ/rFW0wYatpjA/s64/photo.jpg",
      "userId": "13748978918988779747"
     },
     "user_tz": -330
    },
    "id": "DEZin4r8gMg-",
    "outputId": "4141a3b4-63bf-485b-ac3a-9cba51f2e99b"
   },
   "outputs": [
    {
     "name": "stdout",
     "output_type": "stream",
     "text": [
      "19354\n"
     ]
    }
   ],
   "source": [
    "len_rev =[len(i) for i in final_data['Text']]\n",
    "print(len(len_rev))"
   ]
  },
  {
   "cell_type": "markdown",
   "metadata": {
    "colab_type": "text",
    "id": "KIv7hu6egMhD"
   },
   "source": [
    "#### Sorting according to time, so that we can do time-based split"
   ]
  },
  {
   "cell_type": "code",
   "execution_count": 20,
   "metadata": {
    "colab": {},
    "colab_type": "code",
    "id": "rZkVMpkrgMhE"
   },
   "outputs": [],
   "source": [
    "# sorting the data by time, so that we can do timebased splitting.\n",
    "final_data.sort_values('Time',inplace=True,ascending=True)"
   ]
  },
  {
   "cell_type": "code",
   "execution_count": 21,
   "metadata": {
    "colab": {
     "base_uri": "https://localhost:8080/",
     "height": 140
    },
    "colab_type": "code",
    "executionInfo": {
     "elapsed": 2120,
     "status": "ok",
     "timestamp": 1549120721474,
     "user": {
      "displayName": "Akash Jain",
      "photoUrl": "https://lh6.googleusercontent.com/-URkka8RJQGo/AAAAAAAAAAI/AAAAAAAAAKQ/rFW0wYatpjA/s64/photo.jpg",
      "userId": "13748978918988779747"
     },
     "user_tz": -330
    },
    "id": "qihL0GIXgMhH",
    "outputId": "f01c3aea-be09-4014-b70b-f2a3856d648d"
   },
   "outputs": [
    {
     "data": {
      "text/html": [
       "<div>\n",
       "<style scoped>\n",
       "    .dataframe tbody tr th:only-of-type {\n",
       "        vertical-align: middle;\n",
       "    }\n",
       "\n",
       "    .dataframe tbody tr th {\n",
       "        vertical-align: top;\n",
       "    }\n",
       "\n",
       "    .dataframe thead th {\n",
       "        text-align: right;\n",
       "    }\n",
       "</style>\n",
       "<table border=\"1\" class=\"dataframe\">\n",
       "  <thead>\n",
       "    <tr style=\"text-align: right;\">\n",
       "      <th></th>\n",
       "      <th>Id</th>\n",
       "      <th>ProductId</th>\n",
       "      <th>UserId</th>\n",
       "      <th>ProfileName</th>\n",
       "      <th>HelpfulnessNumerator</th>\n",
       "      <th>HelpfulnessDenominator</th>\n",
       "      <th>Score</th>\n",
       "      <th>Time</th>\n",
       "      <th>Summary</th>\n",
       "      <th>Text</th>\n",
       "    </tr>\n",
       "  </thead>\n",
       "  <tbody>\n",
       "    <tr>\n",
       "      <th>1244</th>\n",
       "      <td>1245</td>\n",
       "      <td>B00002Z754</td>\n",
       "      <td>A29Z5PI9BW2PU3</td>\n",
       "      <td>Robbie</td>\n",
       "      <td>7</td>\n",
       "      <td>7</td>\n",
       "      <td>1</td>\n",
       "      <td>961718400</td>\n",
       "      <td>Great Product</td>\n",
       "      <td>This was a really good idea and the final prod...</td>\n",
       "    </tr>\n",
       "    <tr>\n",
       "      <th>1243</th>\n",
       "      <td>1244</td>\n",
       "      <td>B00002Z754</td>\n",
       "      <td>A3B8RCEI0FXFI6</td>\n",
       "      <td>B G Chase</td>\n",
       "      <td>10</td>\n",
       "      <td>10</td>\n",
       "      <td>1</td>\n",
       "      <td>962236800</td>\n",
       "      <td>WOW Make your own 'slickers' !</td>\n",
       "      <td>I just received my shipment and could hardly w...</td>\n",
       "    </tr>\n",
       "  </tbody>\n",
       "</table>\n",
       "</div>"
      ],
      "text/plain": [
       "        Id   ProductId          UserId ProfileName  HelpfulnessNumerator  \\\n",
       "1244  1245  B00002Z754  A29Z5PI9BW2PU3      Robbie                     7   \n",
       "1243  1244  B00002Z754  A3B8RCEI0FXFI6   B G Chase                    10   \n",
       "\n",
       "      HelpfulnessDenominator  Score       Time  \\\n",
       "1244                       7      1  961718400   \n",
       "1243                      10      1  962236800   \n",
       "\n",
       "                             Summary  \\\n",
       "1244                   Great Product   \n",
       "1243  WOW Make your own 'slickers' !   \n",
       "\n",
       "                                                   Text  \n",
       "1244  This was a really good idea and the final prod...  \n",
       "1243  I just received my shipment and could hardly w...  "
      ]
     },
     "execution_count": 21,
     "metadata": {},
     "output_type": "execute_result"
    }
   ],
   "source": [
    "final_data.head(2)"
   ]
  },
  {
   "cell_type": "code",
   "execution_count": 22,
   "metadata": {
    "colab": {
     "base_uri": "https://localhost:8080/",
     "height": 54
    },
    "colab_type": "code",
    "executionInfo": {
     "elapsed": 1994,
     "status": "ok",
     "timestamp": 1549120721475,
     "user": {
      "displayName": "Akash Jain",
      "photoUrl": "https://lh6.googleusercontent.com/-URkka8RJQGo/AAAAAAAAAAI/AAAAAAAAAKQ/rFW0wYatpjA/s64/photo.jpg",
      "userId": "13748978918988779747"
     },
     "user_tz": -330
    },
    "id": "JBIp8dkfgMhL",
    "outputId": "b49eaaa3-5844-4f10-ce5c-d93ea21ce527"
   },
   "outputs": [
    {
     "data": {
      "text/plain": [
       "\"What I like about them:<br />1) Very thick chips.<br />2) No trans fat and all natural, according to the info on the bag.<br />3) Flavor, but that's a subjective thing.<br />4) 2oz bags, which keep you from eating too much at one time. Just set a limit of 1 bag.<br /><br />Cons:<br />As another reviewer said, there's a lot of oil in them chips. What I do is place a paper napkin on a plate and pour the chips on them. Wait a few mins before eating and the napkin will soak some of the oil off. It seems gross that there is so much oil on the chip that a napkin will soak it off, but it's true! And at least this way, you'll get rid of some of the oil.\""
      ]
     },
     "execution_count": 22,
     "metadata": {},
     "output_type": "execute_result"
    }
   ],
   "source": [
    "final_data.Text[443]  # after randomly reading the reviews, i saw that the reviews had many tags."
   ]
  },
  {
   "cell_type": "code",
   "execution_count": 23,
   "metadata": {
    "colab": {
     "base_uri": "https://localhost:8080/",
     "height": 34
    },
    "colab_type": "code",
    "executionInfo": {
     "elapsed": 2493,
     "status": "ok",
     "timestamp": 1549120723141,
     "user": {
      "displayName": "Akash Jain",
      "photoUrl": "https://lh6.googleusercontent.com/-URkka8RJQGo/AAAAAAAAAAI/AAAAAAAAAKQ/rFW0wYatpjA/s64/photo.jpg",
      "userId": "13748978918988779747"
     },
     "user_tz": -330
    },
    "id": "A-N2koVAgMhP",
    "outputId": "ee1ca4e1-5b6c-44fb-c5ac-40bea1aabbfc"
   },
   "outputs": [
    {
     "data": {
      "text/plain": [
       "(19354, 10)"
      ]
     },
     "execution_count": 23,
     "metadata": {},
     "output_type": "execute_result"
    }
   ],
   "source": [
    "final_data.shape"
   ]
  },
  {
   "cell_type": "markdown",
   "metadata": {
    "colab_type": "text",
    "id": "K3bjyWvpgMhU"
   },
   "source": [
    "## Preprocessing the text"
   ]
  },
  {
   "cell_type": "markdown",
   "metadata": {
    "colab_type": "text",
    "id": "OZyTcRrMgMhV"
   },
   "source": [
    "All the credits to AAIC team for wonderful course.\n",
    "1. Begin by removing the html tags, we will use beautiful soup for this.\n",
    "2. Remove any punctuations or limited set of special characters like , or . or # etc.\n",
    "3. Check if the word is made up of english letters and is not alpha-numeric\n",
    "4. Check to see if the length of the word is greater than 2 (as it was researched that there is no adjective in 2-letters)\n",
    "5. Convert the word to lowercase\n",
    "6. Remove Stopwords\n",
    "7. Finally Wordnet lemmatizer as it is better than snowball stemmer"
   ]
  },
  {
   "cell_type": "code",
   "execution_count": 24,
   "metadata": {
    "colab": {
     "base_uri": "https://localhost:8080/",
     "height": 101
    },
    "colab_type": "code",
    "executionInfo": {
     "elapsed": 2681,
     "status": "ok",
     "timestamp": 1549120723913,
     "user": {
      "displayName": "Akash Jain",
      "photoUrl": "https://lh6.googleusercontent.com/-URkka8RJQGo/AAAAAAAAAAI/AAAAAAAAAKQ/rFW0wYatpjA/s64/photo.jpg",
      "userId": "13748978918988779747"
     },
     "user_tz": -330
    },
    "id": "qb0xYzyJgMhY",
    "outputId": "9e3d39af-70d4-4f5e-a34d-f25a1ec1d6ba"
   },
   "outputs": [
    {
     "name": "stderr",
     "output_type": "stream",
     "text": [
      "[nltk_data] Downloading package wordnet to C:\\Users\\Akash\n",
      "[nltk_data]     Jain\\AppData\\Roaming\\nltk_data...\n",
      "[nltk_data]   Package wordnet is already up-to-date!\n",
      "[nltk_data] Downloading package stopwords to C:\\Users\\Akash\n",
      "[nltk_data]     Jain\\AppData\\Roaming\\nltk_data...\n",
      "[nltk_data]   Package stopwords is already up-to-date!\n"
     ]
    },
    {
     "data": {
      "text/plain": [
       "True"
      ]
     },
     "execution_count": 24,
     "metadata": {},
     "output_type": "execute_result"
    }
   ],
   "source": [
    "# importing the libraries needed\n",
    "import re\n",
    "import nltk\n",
    "import string\n",
    "from bs4 import BeautifulSoup\n",
    "nltk.download('wordnet')\n",
    "nltk.download('stopwords')"
   ]
  },
  {
   "cell_type": "code",
   "execution_count": 25,
   "metadata": {
    "colab": {},
    "colab_type": "code",
    "id": "B0oKSYvJgMhn"
   },
   "outputs": [],
   "source": [
    "stopword = nltk.corpus.stopwords.words('english')\n"
   ]
  },
  {
   "cell_type": "code",
   "execution_count": 26,
   "metadata": {
    "colab": {},
    "colab_type": "code",
    "id": "am8wl-iUgMhq"
   },
   "outputs": [],
   "source": [
    "lemm = nltk.stem.wordnet.WordNetLemmatizer()\n",
    "stemm = nltk.stem.SnowballStemmer('english')"
   ]
  },
  {
   "cell_type": "code",
   "execution_count": 27,
   "metadata": {
    "colab": {
     "base_uri": "https://localhost:8080/",
     "height": 34
    },
    "colab_type": "code",
    "executionInfo": {
     "elapsed": 4468,
     "status": "ok",
     "timestamp": 1549120727051,
     "user": {
      "displayName": "Akash Jain",
      "photoUrl": "https://lh6.googleusercontent.com/-URkka8RJQGo/AAAAAAAAAAI/AAAAAAAAAKQ/rFW0wYatpjA/s64/photo.jpg",
      "userId": "13748978918988779747"
     },
     "user_tz": -330
    },
    "id": "ofgiUNO3gMhu",
    "outputId": "5b18f0fd-83f3-4d78-d764-f5257b081676"
   },
   "outputs": [
    {
     "data": {
      "text/plain": [
       "'community'"
      ]
     },
     "execution_count": 27,
     "metadata": {},
     "output_type": "execute_result"
    }
   ],
   "source": [
    "#this is how the lemmatizer works\n",
    "lemm.lemmatize('communities')"
   ]
  },
  {
   "cell_type": "code",
   "execution_count": 28,
   "metadata": {
    "colab": {
     "base_uri": "https://localhost:8080/",
     "height": 34
    },
    "colab_type": "code",
    "executionInfo": {
     "elapsed": 4153,
     "status": "ok",
     "timestamp": 1549120727052,
     "user": {
      "displayName": "Akash Jain",
      "photoUrl": "https://lh6.googleusercontent.com/-URkka8RJQGo/AAAAAAAAAAI/AAAAAAAAAKQ/rFW0wYatpjA/s64/photo.jpg",
      "userId": "13748978918988779747"
     },
     "user_tz": -330
    },
    "id": "iy1-zS0IgMhz",
    "outputId": "68090a63-bd9a-47e3-efc5-f5cf2b3fc73b"
   },
   "outputs": [
    {
     "data": {
      "text/plain": [
       "'communiti'"
      ]
     },
     "execution_count": 28,
     "metadata": {},
     "output_type": "execute_result"
    }
   ],
   "source": [
    "stemm.stem('communities')"
   ]
  },
  {
   "cell_type": "code",
   "execution_count": 29,
   "metadata": {
    "colab": {},
    "colab_type": "code",
    "id": "jx2FLCH6gMh3"
   },
   "outputs": [],
   "source": [
    "stopword = set(stopword)"
   ]
  },
  {
   "cell_type": "markdown",
   "metadata": {
    "colab_type": "text",
    "id": "GqAr7O5BgMh6"
   },
   "source": [
    "We will use lemmatizer as it makes use of dictionary and is good for our problem"
   ]
  },
  {
   "cell_type": "markdown",
   "metadata": {
    "colab_type": "text",
    "id": "tRsA7NX1gMh9"
   },
   "source": [
    "###  preprocessing the text"
   ]
  },
  {
   "cell_type": "code",
   "execution_count": 30,
   "metadata": {
    "colab": {},
    "colab_type": "code",
    "id": "klc6q5rZgMh_"
   },
   "outputs": [],
   "source": [
    "def cleaner(phrase):\n",
    "    # decontraction\n",
    "        #removing words with numbers and special characters\n",
    "    phrase =  re.sub(\"(\\d*\\.\\d+)|(\\d+\\.[0-9 ]+)\",\"\",str(phrase))\n",
    "    phrase = re.sub(r\"\\d\\S\",\"\", phrase)\n",
    "    phrase = re.sub(r\"\\S*\\d\\S\",\"\", phrase).strip()\n",
    "    phrase = re.sub(r\"[^A-Za-z0-9]+\",\" \",phrase)\n",
    "    phrase = re.sub(r\"won't\", \"will not\", phrase)\n",
    "    phrase = re.sub(r\"can\\'t\", \"can not\", phrase)\n",
    "    phrase = re.sub(r\"n\\'t\", \" not\", phrase)\n",
    "    phrase = re.sub(r\"\\'re\", \" are\", phrase)  # r means raw string\n",
    "    phrase = re.sub(r\"\\'s\", \" is\", phrase)\n",
    "    phrase = re.sub(r\"\\'d\", \" would\", phrase)\n",
    "    phrase = re.sub(r\"\\'ll\", \" will\", phrase)\n",
    "    phrase = re.sub(r\"\\'t\", \" not\", phrase)\n",
    "    phrase = re.sub(r\"\\'ve\", \" have\", phrase)\n",
    "    phrase = re.sub(r\"\\'m\", \" am\", phrase)\n",
    "\n",
    "    return phrase"
   ]
  },
  {
   "cell_type": "code",
   "execution_count": 31,
   "metadata": {
    "colab": {
     "base_uri": "https://localhost:8080/",
     "height": 34
    },
    "colab_type": "code",
    "executionInfo": {
     "elapsed": 269229,
     "status": "ok",
     "timestamp": 1549120994030,
     "user": {
      "displayName": "Akash Jain",
      "photoUrl": "https://lh6.googleusercontent.com/-URkka8RJQGo/AAAAAAAAAAI/AAAAAAAAAKQ/rFW0wYatpjA/s64/photo.jpg",
      "userId": "13748978918988779747"
     },
     "user_tz": -330
    },
    "id": "05wUd1NegMiC",
    "outputId": "c6835c7f-84b9-4230-d9c9-5d275096487c",
    "scrolled": true
   },
   "outputs": [
    {
     "name": "stderr",
     "output_type": "stream",
     "text": [
      "100%|██████████████████████████████████████████████████████████████████████████| 19354/19354 [00:18<00:00, 1051.89it/s]\n"
     ]
    }
   ],
   "source": [
    "from tqdm import tqdm\n",
    "cleaned_text = []\n",
    "words = []\n",
    "for sent in tqdm(final_data['Text'].values):\n",
    "    sent = BeautifulSoup(sent,'lxml').get_text()\n",
    "    sent = cleaner(sent)\n",
    "    sent = ' '.join(e.lower() for e in sent.split() if e.lower() not in stopword)\n",
    "    sent = ' '.join(lemm.lemmatize(e) for e in sent.split())\n",
    "    cleaned_text.append(sent)"
   ]
  },
  {
   "cell_type": "code",
   "execution_count": 32,
   "metadata": {
    "colab": {
     "base_uri": "https://localhost:8080/",
     "height": 34
    },
    "colab_type": "code",
    "executionInfo": {
     "elapsed": 403039,
     "status": "ok",
     "timestamp": 1549121127957,
     "user": {
      "displayName": "Akash Jain",
      "photoUrl": "https://lh6.googleusercontent.com/-URkka8RJQGo/AAAAAAAAAAI/AAAAAAAAAKQ/rFW0wYatpjA/s64/photo.jpg",
      "userId": "13748978918988779747"
     },
     "user_tz": -330
    },
    "id": "w3lbrFgWgMiJ",
    "outputId": "534aea59-7031-40b6-d4ed-7c3b09f30d3c",
    "scrolled": true
   },
   "outputs": [
    {
     "name": "stderr",
     "output_type": "stream",
     "text": [
      "100%|██████████████████████████████████████████████████████████████████████████| 19354/19354 [00:08<00:00, 2169.42it/s]\n"
     ]
    }
   ],
   "source": [
    "from tqdm import tqdm\n",
    "cleaned_summary = []\n",
    "\n",
    "for sent in tqdm(final_data['Summary'].values):\n",
    "    sent = cleaner(sent)\n",
    "    sent = BeautifulSoup(sent,'lxml').get_text()\n",
    "    sent = ' '.join(e.lower() for e in sent.split() if e.lower() not in stopword)\n",
    "    sent = ' '.join(lemm.lemmatize(e) for e in sent.split())\n",
    "    cleaned_summary.append(sent)"
   ]
  },
  {
   "cell_type": "code",
   "execution_count": 33,
   "metadata": {
    "colab": {},
    "colab_type": "code",
    "id": "_HbWAet7gMiQ"
   },
   "outputs": [],
   "source": [
    "#creating new dataframe to increase our features\n",
    "d = {\n",
    "    'text':cleaned_text,\n",
    "    'summary':cleaned_summary,\n",
    "    'length':len_rev\n",
    "}"
   ]
  },
  {
   "cell_type": "code",
   "execution_count": 34,
   "metadata": {
    "colab": {},
    "colab_type": "code",
    "id": "L-xEOwFtgMiU"
   },
   "outputs": [],
   "source": [
    "df1 = pd.DataFrame(d)"
   ]
  },
  {
   "cell_type": "code",
   "execution_count": 35,
   "metadata": {
    "colab": {},
    "colab_type": "code",
    "id": "xf-4zxvcgMiX"
   },
   "outputs": [],
   "source": [
    "df1['text+summary'] = df1['text'].map(str)+df1['summary']"
   ]
  },
  {
   "cell_type": "code",
   "execution_count": 36,
   "metadata": {
    "colab": {},
    "colab_type": "code",
    "id": "p5VQ6JpogMic"
   },
   "outputs": [],
   "source": [
    "df1 = df1.drop(columns = ['text','summary'])"
   ]
  },
  {
   "cell_type": "markdown",
   "metadata": {
    "colab_type": "text",
    "id": "g7hNH78_gMig"
   },
   "source": [
    "####  Functions That We Will Use For LInear SVM"
   ]
  },
  {
   "cell_type": "code",
   "execution_count": 37,
   "metadata": {
    "colab": {},
    "colab_type": "code",
    "id": "rUzNPVoLgMih"
   },
   "outputs": [],
   "source": [
    "def finding_right_param_model(xtrain,ytrain,xcross,ycross,penalty_value = '',classifier = ''):\n",
    "    roc_cv1 = []\n",
    "    roc_tr1 = []\n",
    "    alpha_values = [0.001,0.1,1,10,100]\n",
    "    for i in tqdm(alpha_values):\n",
    "        if classifier == 'rbf':\n",
    "            clf = SVC(C = i,probability=True)\n",
    "            \n",
    "        else:\n",
    "            sgd = SGDClassifier(alpha = i,penalty=penalty_value)\n",
    "\n",
    "\n",
    "            #doing the 3-fold cross validation using grid search to find the right alpha\n",
    "            clf = CalibratedClassifierCV(sgd,cv = 3)\n",
    "        \n",
    "        clf.fit(xtrain,ytrain)\n",
    "        # predict the response on the crossvalidation train\n",
    "        pred = clf.predict_proba(xcross)[:,1]\n",
    "        pred1 = clf.predict_proba(xtrain)[:,1]\n",
    "\n",
    "        #ROC_AUC SCORE\n",
    "        roc_cv= roc_auc_score(ycross,pred)\n",
    "        roc_cv1.append(roc_cv)\n",
    "        roc_tr =roc_auc_score(ytrain,pred1)\n",
    "        roc_tr1.append(roc_tr)\n",
    "\n",
    "    #plotting the roc-auc\n",
    "    plot1= plt.subplot(1,1,1)\n",
    "    plt.grid()\n",
    "    plt.title(\"Area Under Roc Curve for Train and Cv Data\")\n",
    "    plt.plot(alpha_values,roc_cv1,label=\"roc_auc_cv\")\n",
    "    plt.plot(alpha_values,roc_tr1,label =\"roc_auc_tr\")\n",
    "    plt.xlabel('ALPHA')\n",
    "    plt.ylabel('Area under curve of ROC')\n",
    "    plt.legend()\n",
    "    plt.show()"
   ]
  },
  {
   "cell_type": "code",
   "execution_count": 38,
   "metadata": {
    "colab": {},
    "colab_type": "code",
    "id": "AUR3OFsWgMil"
   },
   "outputs": [],
   "source": [
    "def final_model(xtrain,ytrain,xtestdata,ytestdata,penalty_value = '',param_value = '',vect_type ='',classifier = ''):\n",
    "    # Training the model with the right parameter\n",
    "    if classifier == 'rbf':\n",
    "        clf = SVC(C = param_value)\n",
    "\n",
    "    else:\n",
    "        sgd = SGDClassifier(alpha = param_value,penalty=penalty_value)\n",
    "        sgd.fit(xtrain,ytrain)\n",
    "        clf = CalibratedClassifierCV(sgd)\n",
    "        \n",
    "    clf.fit(xtrain,ytrain)\n",
    "        # predict the response \n",
    "    pred = clf.predict_proba(xtestdata)[:,1]\n",
    "    pred1 = clf.predict_proba(xtrain)[:,1]\n",
    "    #plotting the roc \n",
    "    final_auc_score= roc_auc_score(ytestdata,pred)\n",
    "    print(\"*******Final Auc Score is {}*********\".format(final_auc_score))\n",
    "    \n",
    "    print(\"**********Important Features are******************\")\n",
    "    if classifier == 'rbf':\n",
    "        display(HTML(eli5.show_weights(clf, vec=vect_type, top=15 ,target_names=ytestdata).data))\n",
    "    else:\n",
    "        display(HTML(eli5.show_weights(sgd, vec=vect_type, top=15 ,target_names=ytestdata).data))\n",
    "    #Plotting the roc-curve\n",
    "    fpr,tpr,threshold = roc_curve(ytestdata,pred)\n",
    "    fpr1,tpr1,threshold1 = roc_curve(ytrain,pred1)\n",
    "    plt.figure(2,figsize = (15,4))\n",
    "    plt.subplot(1,2,1)\n",
    "    plt.title(\"Roc Curve For Train and Test Data\")\n",
    "    plt.plot(fpr,tpr,label = \"test-roc\")\n",
    "    plt.plot(fpr1,tpr1,label = \"train-roc\")\n",
    "    plt.xlabel('FPR')\n",
    "    plt.ylabel('TPR')\n",
    "    plt.legend()\n",
    "    #plotting the confusion matrix\n",
    "    plt.subplot(1,2,2)\n",
    "    cm = confusion_matrix(ytestdata,clf.predict(xtestdata))\n",
    "    class_label = [\"negative\", \"positive\"]\n",
    "    df_cm = pd.DataFrame(cm, index = class_label, columns = class_label)\n",
    "    sns.heatmap(df_cm, annot = True, fmt = \"d\",center =None)\n",
    "    plt.title(\"Confusion Matrix\")\n",
    "    plt.xlabel(\"True Label\")\n",
    "    plt.ylabel(\"Predicted Label\")\n",
    "    plt.show()\n"
   ]
  },
  {
   "cell_type": "markdown",
   "metadata": {
    "colab_type": "text",
    "id": "yvphvzZ7gMip"
   },
   "source": [
    "### Text Featurization"
   ]
  },
  {
   "cell_type": "markdown",
   "metadata": {
    "colab_type": "text",
    "id": "QJjkEi3jgMiq"
   },
   "source": [
    "#### BAG OF WORDS"
   ]
  },
  {
   "cell_type": "code",
   "execution_count": 39,
   "metadata": {
    "colab": {
     "base_uri": "https://localhost:8080/",
     "height": 34
    },
    "colab_type": "code",
    "executionInfo": {
     "elapsed": 400855,
     "status": "ok",
     "timestamp": 1549121129032,
     "user": {
      "displayName": "Akash Jain",
      "photoUrl": "https://lh6.googleusercontent.com/-URkka8RJQGo/AAAAAAAAAAI/AAAAAAAAAKQ/rFW0wYatpjA/s64/photo.jpg",
      "userId": "13748978918988779747"
     },
     "user_tz": -330
    },
    "id": "uT6HNFeXgMir",
    "outputId": "a46e523d-39ba-4848-c0c0-61045e04009e"
   },
   "outputs": [
    {
     "data": {
      "text/plain": [
       "(19354, 2)"
      ]
     },
     "execution_count": 39,
     "metadata": {},
     "output_type": "execute_result"
    }
   ],
   "source": [
    "df1.shape"
   ]
  },
  {
   "cell_type": "code",
   "execution_count": 40,
   "metadata": {
    "colab": {},
    "colab_type": "code",
    "id": "LcKF6KBdgMiw"
   },
   "outputs": [],
   "source": [
    "# splitting the dataframe into train,test,cv dataset \n",
    "from sklearn.model_selection import train_test_split as splitter\n",
    "x,xtest,y,ytest = splitter(df1,final_data['Score'],test_size = 0.2)\n",
    "xtr,xcv,ytr,ycv = splitter(x,y,test_size=0.2)"
   ]
  },
  {
   "cell_type": "code",
   "execution_count": 41,
   "metadata": {
    "colab": {},
    "colab_type": "code",
    "id": "32EwRtABgMiy"
   },
   "outputs": [],
   "source": [
    "#Using Bag of words on text and summary and adding another feature\n",
    "import sklearn.feature_extraction.text as textfeat\n",
    "bow = textfeat.CountVectorizer()\n",
    "bow.fit(xtr['text+summary'])\n",
    "bow_xtr= bow.transform(xtr['text+summary'])\n",
    "bow_xcv = bow.transform(xcv['text+summary'])\n",
    "bow_xtest = bow.transform(xtest['text+summary'])"
   ]
  },
  {
   "cell_type": "code",
   "execution_count": 42,
   "metadata": {
    "colab": {
     "base_uri": "https://localhost:8080/",
     "height": 34
    },
    "colab_type": "code",
    "executionInfo": {
     "elapsed": 424348,
     "status": "ok",
     "timestamp": 1549121153377,
     "user": {
      "displayName": "Akash Jain",
      "photoUrl": "https://lh6.googleusercontent.com/-URkka8RJQGo/AAAAAAAAAAI/AAAAAAAAAKQ/rFW0wYatpjA/s64/photo.jpg",
      "userId": "13748978918988779747"
     },
     "user_tz": -330
    },
    "id": "cR4M6dl0gMi0",
    "outputId": "89a03418-d1c6-470c-8158-11730954d050"
   },
   "outputs": [
    {
     "data": {
      "text/plain": [
       "(3097, 29555)"
      ]
     },
     "execution_count": 42,
     "metadata": {},
     "output_type": "execute_result"
    }
   ],
   "source": [
    "bow_xcv.shape"
   ]
  },
  {
   "cell_type": "code",
   "execution_count": 43,
   "metadata": {
    "colab": {
     "base_uri": "https://localhost:8080/",
     "height": 34
    },
    "colab_type": "code",
    "executionInfo": {
     "elapsed": 424035,
     "status": "ok",
     "timestamp": 1549121153378,
     "user": {
      "displayName": "Akash Jain",
      "photoUrl": "https://lh6.googleusercontent.com/-URkka8RJQGo/AAAAAAAAAAI/AAAAAAAAAKQ/rFW0wYatpjA/s64/photo.jpg",
      "userId": "13748978918988779747"
     },
     "user_tz": -330
    },
    "id": "Z5AnnYdwgMi5",
    "outputId": "d39b8e3c-73f3-4834-c18f-9212836c8337"
   },
   "outputs": [
    {
     "data": {
      "text/plain": [
       "(12386, 29555)"
      ]
     },
     "execution_count": 43,
     "metadata": {},
     "output_type": "execute_result"
    }
   ],
   "source": [
    "bow_xtr.shape"
   ]
  },
  {
   "cell_type": "code",
   "execution_count": 44,
   "metadata": {
    "colab": {},
    "colab_type": "code",
    "id": "JX48H7NlgMi9"
   },
   "outputs": [],
   "source": [
    "bow_with_other_features_train = mat.hstack([bow_xtr,np.array(xtr['length']).reshape(xtr.shape[0],1)]) # reshaping\n",
    "bow_with_other_features_cv = mat.hstack([bow_xcv,np.array(xcv['length']).reshape(xcv.shape[0],1)])\n",
    "bow_with_other_features_test = mat.hstack([bow_xtest,np.array(xtest['length']).reshape(xtest.shape[0],1)])"
   ]
  },
  {
   "cell_type": "code",
   "execution_count": 45,
   "metadata": {
    "colab": {
     "base_uri": "https://localhost:8080/",
     "height": 34
    },
    "colab_type": "code",
    "executionInfo": {
     "elapsed": 423671,
     "status": "ok",
     "timestamp": 1549121153382,
     "user": {
      "displayName": "Akash Jain",
      "photoUrl": "https://lh6.googleusercontent.com/-URkka8RJQGo/AAAAAAAAAAI/AAAAAAAAAKQ/rFW0wYatpjA/s64/photo.jpg",
      "userId": "13748978918988779747"
     },
     "user_tz": -330
    },
    "id": "m9y0a25egMjD",
    "outputId": "ad17eac8-c145-4ac6-9197-81738ec9ba57"
   },
   "outputs": [
    {
     "data": {
      "text/plain": [
       "(3097, 29556)"
      ]
     },
     "execution_count": 45,
     "metadata": {},
     "output_type": "execute_result"
    }
   ],
   "source": [
    "bow_with_other_features_cv.shape"
   ]
  },
  {
   "cell_type": "code",
   "execution_count": 46,
   "metadata": {
    "colab": {
     "base_uri": "https://localhost:8080/",
     "height": 34
    },
    "colab_type": "code",
    "executionInfo": {
     "elapsed": 422586,
     "status": "ok",
     "timestamp": 1549121153382,
     "user": {
      "displayName": "Akash Jain",
      "photoUrl": "https://lh6.googleusercontent.com/-URkka8RJQGo/AAAAAAAAAAI/AAAAAAAAAKQ/rFW0wYatpjA/s64/photo.jpg",
      "userId": "13748978918988779747"
     },
     "user_tz": -330
    },
    "id": "CtblqaDVgMjI",
    "outputId": "faf8f107-01f6-4539-ea21-ba54fda94af5"
   },
   "outputs": [
    {
     "data": {
      "text/plain": [
       "scipy.sparse.coo.coo_matrix"
      ]
     },
     "execution_count": 46,
     "metadata": {},
     "output_type": "execute_result"
    }
   ],
   "source": [
    "type(bow_with_other_features_train)"
   ]
  },
  {
   "cell_type": "markdown",
   "metadata": {
    "colab_type": "text",
    "id": "5VQBlR_SgMjN"
   },
   "source": [
    "#### Applying Machine Learning Models"
   ]
  },
  {
   "cell_type": "code",
   "execution_count": 47,
   "metadata": {
    "colab": {
     "base_uri": "https://localhost:8080/",
     "height": 393
    },
    "colab_type": "code",
    "executionInfo": {
     "elapsed": 446808,
     "status": "ok",
     "timestamp": 1549121178353,
     "user": {
      "displayName": "Akash Jain",
      "photoUrl": "https://lh6.googleusercontent.com/-URkka8RJQGo/AAAAAAAAAAI/AAAAAAAAAKQ/rFW0wYatpjA/s64/photo.jpg",
      "userId": "13748978918988779747"
     },
     "user_tz": -330
    },
    "id": "UDYdvDRogMjO",
    "outputId": "208e2be8-4d43-4093-f0e2-0bd1546e57d6"
   },
   "outputs": [
    {
     "name": "stderr",
     "output_type": "stream",
     "text": [
      "100%|████████████████████████████████████████████████████████████████████████████████████| 5/5 [00:01<00:00,  3.14it/s]\n"
     ]
    },
    {
     "data": {
      "image/png": "[encoded data removed]",
      "text/plain": [
       "<Figure size 432x288 with 1 Axes>"
      ]
     },
     "metadata": {
      "needs_background": "light"
     },
     "output_type": "display_data"
    }
   ],
   "source": [
    "#L1 regularization\n",
    "finding_right_param_model(bow_with_other_features_train,ytr,bow_with_other_features_cv,ycv,penalty_value='l1')"
   ]
  },
  {
   "cell_type": "code",
   "execution_count": 48,
   "metadata": {
    "colab": {
     "base_uri": "https://localhost:8080/",
     "height": 686
    },
    "colab_type": "code",
    "executionInfo": {
     "elapsed": 458200,
     "status": "ok",
     "timestamp": 1549121189972,
     "user": {
      "displayName": "Akash Jain",
      "photoUrl": "https://lh6.googleusercontent.com/-URkka8RJQGo/AAAAAAAAAAI/AAAAAAAAAKQ/rFW0wYatpjA/s64/photo.jpg",
      "userId": "13748978918988779747"
     },
     "user_tz": -330
    },
    "id": "UR0lp9dIgMjU",
    "outputId": "2a49a227-e569-4956-d7e8-6c0f367dca05",
    "scrolled": false
   },
   "outputs": [
    {
     "name": "stdout",
     "output_type": "stream",
     "text": [
      "*******Final Auc Score is 0.5187606386100839*********\n",
      "**********Important Features are******************\n"
     ]
    },
    {
     "data": {
      "text/html": [
       "\n",
       "    <style>\n",
       "    table.eli5-weights tr:hover {\n",
       "        filter: brightness(85%);\n",
       "    }\n",
       "</style>\n",
       "\n",
       "\n",
       "\n",
       "    \n",
       "\n",
       "    \n",
       "\n",
       "    \n",
       "\n",
       "    \n",
       "\n",
       "    \n",
       "\n",
       "    \n",
       "\n",
       "\n",
       "    \n",
       "\n",
       "    \n",
       "\n",
       "    \n",
       "\n",
       "    \n",
       "        \n",
       "\n",
       "    \n",
       "\n",
       "        \n",
       "            \n",
       "                \n",
       "                \n",
       "    \n",
       "        <p style=\"margin-bottom: 0.5em; margin-top: 0em\">\n",
       "            <b>\n",
       "    \n",
       "        y=1\n",
       "    \n",
       "</b>\n",
       "\n",
       "top features\n",
       "        </p>\n",
       "    \n",
       "    <table class=\"eli5-weights\"\n",
       "           style=\"border-collapse: collapse; border: none; margin-top: 0em; table-layout: auto; margin-bottom: 2em;\">\n",
       "        <thead>\n",
       "        <tr style=\"border: none;\">\n",
       "            \n",
       "                <th style=\"padding: 0 1em 0 0.5em; text-align: right; border: none;\" title=\"Feature weights. Note that weights do not account for feature value scales, so if feature values have different scales, features with highest weights might not be the most important.\">\n",
       "                    Weight<sup>?</sup>\n",
       "                </th>\n",
       "            \n",
       "            <th style=\"padding: 0 0.5em 0 0.5em; text-align: left; border: none;\">Feature</th>\n",
       "            \n",
       "        </tr>\n",
       "        </thead>\n",
       "        <tbody>\n",
       "        \n",
       "            <tr style=\"background-color: hsl(120, 100.00%, 80.00%); border: none;\">\n",
       "    <td style=\"padding: 0 1em 0 0.5em; text-align: right; border: none;\">\n",
       "        +1298.867\n",
       "    </td>\n",
       "    <td style=\"padding: 0 0.5em 0 0.5em; text-align: left; border: none;\">\n",
       "        great\n",
       "    </td>\n",
       "    \n",
       "</tr>\n",
       "        \n",
       "            <tr style=\"background-color: hsl(120, 100.00%, 80.02%); border: none;\">\n",
       "    <td style=\"padding: 0 1em 0 0.5em; text-align: right; border: none;\">\n",
       "        +1297.003\n",
       "    </td>\n",
       "    <td style=\"padding: 0 0.5em 0 0.5em; text-align: left; border: none;\">\n",
       "        love\n",
       "    </td>\n",
       "    \n",
       "</tr>\n",
       "        \n",
       "            <tr style=\"background-color: hsl(120, 100.00%, 86.51%); border: none;\">\n",
       "    <td style=\"padding: 0 1em 0 0.5em; text-align: right; border: none;\">\n",
       "        +740.202\n",
       "    </td>\n",
       "    <td style=\"padding: 0 0.5em 0 0.5em; text-align: left; border: none;\">\n",
       "        good\n",
       "    </td>\n",
       "    \n",
       "</tr>\n",
       "        \n",
       "            <tr style=\"background-color: hsl(120, 100.00%, 90.31%); border: none;\">\n",
       "    <td style=\"padding: 0 1em 0 0.5em; text-align: right; border: none;\">\n",
       "        +460.982\n",
       "    </td>\n",
       "    <td style=\"padding: 0 0.5em 0 0.5em; text-align: left; border: none;\">\n",
       "        best\n",
       "    </td>\n",
       "    \n",
       "</tr>\n",
       "        \n",
       "            <tr style=\"background-color: hsl(120, 100.00%, 90.46%); border: none;\">\n",
       "    <td style=\"padding: 0 1em 0 0.5em; text-align: right; border: none;\">\n",
       "        +451.348\n",
       "    </td>\n",
       "    <td style=\"padding: 0 0.5em 0 0.5em; text-align: left; border: none;\">\n",
       "        treat\n",
       "    </td>\n",
       "    \n",
       "</tr>\n",
       "        \n",
       "            <tr style=\"background-color: hsl(120, 100.00%, 91.71%); border: none;\">\n",
       "    <td style=\"padding: 0 1em 0 0.5em; text-align: right; border: none;\">\n",
       "        +368.823\n",
       "    </td>\n",
       "    <td style=\"padding: 0 0.5em 0 0.5em; text-align: left; border: none;\">\n",
       "        coffee\n",
       "    </td>\n",
       "    \n",
       "</tr>\n",
       "        \n",
       "        \n",
       "            <tr style=\"background-color: hsl(120, 100.00%, 91.71%); border: none;\">\n",
       "                <td colspan=\"2\" style=\"padding: 0 0.5em 0 0.5em; text-align: center; border: none; white-space: nowrap;\">\n",
       "                    <i>&hellip; 2597 more positive &hellip;</i>\n",
       "                </td>\n",
       "            </tr>\n",
       "        \n",
       "\n",
       "        \n",
       "            <tr style=\"background-color: hsl(0, 100.00%, 91.89%); border: none;\">\n",
       "                <td colspan=\"2\" style=\"padding: 0 0.5em 0 0.5em; text-align: center; border: none; white-space: nowrap;\">\n",
       "                    <i>&hellip; 2986 more negative &hellip;</i>\n",
       "                </td>\n",
       "            </tr>\n",
       "        \n",
       "        \n",
       "            <tr style=\"background-color: hsl(0, 100.00%, 91.89%); border: none;\">\n",
       "    <td style=\"padding: 0 1em 0 0.5em; text-align: right; border: none;\">\n",
       "        -357.856\n",
       "    </td>\n",
       "    <td style=\"padding: 0 0.5em 0 0.5em; text-align: left; border: none;\">\n",
       "        review\n",
       "    </td>\n",
       "    \n",
       "</tr>\n",
       "        \n",
       "            <tr style=\"background-color: hsl(0, 100.00%, 91.89%); border: none;\">\n",
       "    <td style=\"padding: 0 1em 0 0.5em; text-align: right; border: none;\">\n",
       "        -357.972\n",
       "    </td>\n",
       "    <td style=\"padding: 0 0.5em 0 0.5em; text-align: left; border: none;\">\n",
       "        disappointed\n",
       "    </td>\n",
       "    \n",
       "</tr>\n",
       "        \n",
       "            <tr style=\"background-color: hsl(0, 100.00%, 91.88%); border: none;\">\n",
       "    <td style=\"padding: 0 1em 0 0.5em; text-align: right; border: none;\">\n",
       "        -358.511\n",
       "    </td>\n",
       "    <td style=\"padding: 0 0.5em 0 0.5em; text-align: left; border: none;\">\n",
       "        like\n",
       "    </td>\n",
       "    \n",
       "</tr>\n",
       "        \n",
       "            <tr style=\"background-color: hsl(0, 100.00%, 91.79%); border: none;\">\n",
       "    <td style=\"padding: 0 1em 0 0.5em; text-align: right; border: none;\">\n",
       "        -364.060\n",
       "    </td>\n",
       "    <td style=\"padding: 0 0.5em 0 0.5em; text-align: left; border: none;\">\n",
       "        bought\n",
       "    </td>\n",
       "    \n",
       "</tr>\n",
       "        \n",
       "            <tr style=\"background-color: hsl(0, 100.00%, 90.15%); border: none;\">\n",
       "    <td style=\"padding: 0 1em 0 0.5em; text-align: right; border: none;\">\n",
       "        -472.084\n",
       "    </td>\n",
       "    <td style=\"padding: 0 0.5em 0 0.5em; text-align: left; border: none;\">\n",
       "        box\n",
       "    </td>\n",
       "    \n",
       "</tr>\n",
       "        \n",
       "            <tr style=\"background-color: hsl(0, 100.00%, 89.88%); border: none;\">\n",
       "    <td style=\"padding: 0 1em 0 0.5em; text-align: right; border: none;\">\n",
       "        -491.093\n",
       "    </td>\n",
       "    <td style=\"padding: 0 0.5em 0 0.5em; text-align: left; border: none;\">\n",
       "        bad\n",
       "    </td>\n",
       "    \n",
       "</tr>\n",
       "        \n",
       "            <tr style=\"background-color: hsl(0, 100.00%, 88.99%); border: none;\">\n",
       "    <td style=\"padding: 0 1em 0 0.5em; text-align: right; border: none;\">\n",
       "        -553.791\n",
       "    </td>\n",
       "    <td style=\"padding: 0 0.5em 0 0.5em; text-align: left; border: none;\">\n",
       "        product\n",
       "    </td>\n",
       "    \n",
       "</tr>\n",
       "        \n",
       "            <tr style=\"background-color: hsl(0, 100.00%, 88.52%); border: none;\">\n",
       "    <td style=\"padding: 0 1em 0 0.5em; text-align: right; border: none;\">\n",
       "        -587.799\n",
       "    </td>\n",
       "    <td style=\"padding: 0 0.5em 0 0.5em; text-align: left; border: none;\">\n",
       "        taste\n",
       "    </td>\n",
       "    \n",
       "</tr>\n",
       "        \n",
       "            <tr style=\"background-color: hsl(0, 100.00%, 86.64%); border: none;\">\n",
       "    <td style=\"padding: 0 1em 0 0.5em; text-align: right; border: none;\">\n",
       "        -730.257\n",
       "    </td>\n",
       "    <td style=\"padding: 0 0.5em 0 0.5em; text-align: left; border: none;\">\n",
       "        would\n",
       "    </td>\n",
       "    \n",
       "</tr>\n",
       "        \n",
       "\n",
       "        </tbody>\n",
       "    </table>\n",
       "\n",
       "            \n",
       "        \n",
       "\n",
       "        \n",
       "\n",
       "\n",
       "\n",
       "    \n",
       "\n",
       "    \n",
       "\n",
       "    \n",
       "\n",
       "    \n",
       "\n",
       "\n",
       "    \n",
       "\n",
       "    \n",
       "\n",
       "    \n",
       "\n",
       "    \n",
       "\n",
       "    \n",
       "\n",
       "    \n",
       "\n",
       "\n",
       "    \n",
       "\n",
       "    \n",
       "\n",
       "    \n",
       "\n",
       "    \n",
       "\n",
       "    \n",
       "\n",
       "    \n",
       "\n",
       "\n",
       "\n"
      ],
      "text/plain": [
       "<IPython.core.display.HTML object>"
      ]
     },
     "metadata": {},
     "output_type": "display_data"
    },
    {
     "data": {
      "image/png": "[encoded data removed]",
      "text/plain": [
       "<Figure size 1080x288 with 3 Axes>"
      ]
     },
     "metadata": {
      "needs_background": "light"
     },
     "output_type": "display_data"
    }
   ],
   "source": [
    "# As we can see that c = 0.0001 is the right alpha for us in bow\n",
    "final_model(bow_with_other_features_train,ytr,bow_with_other_features_test,ytest,penalty_value='l1',\\\n",
    "           param_value=0.0001,vect_type=bow)"
   ]
  },
  {
   "cell_type": "code",
   "execution_count": 49,
   "metadata": {
    "colab": {
     "base_uri": "https://localhost:8080/",
     "height": 393
    },
    "colab_type": "code",
    "executionInfo": {
     "elapsed": 478480,
     "status": "ok",
     "timestamp": 1549121211283,
     "user": {
      "displayName": "Akash Jain",
      "photoUrl": "https://lh6.googleusercontent.com/-URkka8RJQGo/AAAAAAAAAAI/AAAAAAAAAKQ/rFW0wYatpjA/s64/photo.jpg",
      "userId": "13748978918988779747"
     },
     "user_tz": -330
    },
    "id": "aJSeK6BjgMjY",
    "outputId": "9a59a3ba-27ec-4bff-e2cc-bc2d4471af61",
    "scrolled": false
   },
   "outputs": [
    {
     "name": "stderr",
     "output_type": "stream",
     "text": [
      "100%|████████████████████████████████████████████████████████████████████████████████████| 5/5 [00:00<00:00,  5.37it/s]\n"
     ]
    },
    {
     "data": {
      "image/png": "[encoded data removed]",
      "text/plain": [
       "<Figure size 432x288 with 1 Axes>"
      ]
     },
     "metadata": {
      "needs_background": "light"
     },
     "output_type": "display_data"
    }
   ],
   "source": [
    "#L2 regularization\n",
    "finding_right_param_model(bow_with_other_features_train,ytr,bow_with_other_features_cv,ycv,penalty_value='l2')"
   ]
  },
  {
   "cell_type": "code",
   "execution_count": 50,
   "metadata": {
    "colab": {
     "base_uri": "https://localhost:8080/",
     "height": 686
    },
    "colab_type": "code",
    "executionInfo": {
     "elapsed": 487114,
     "status": "ok",
     "timestamp": 1549121220207,
     "user": {
      "displayName": "Akash Jain",
      "photoUrl": "https://lh6.googleusercontent.com/-URkka8RJQGo/AAAAAAAAAAI/AAAAAAAAAKQ/rFW0wYatpjA/s64/photo.jpg",
      "userId": "13748978918988779747"
     },
     "user_tz": -330
    },
    "id": "pGHbltXfgMja",
    "outputId": "a1534983-f9d9-4bdc-ddb8-067f4183813d"
   },
   "outputs": [
    {
     "name": "stdout",
     "output_type": "stream",
     "text": [
      "*******Final Auc Score is 0.49271732112461114*********\n",
      "**********Important Features are******************\n"
     ]
    },
    {
     "data": {
      "text/html": [
       "\n",
       "    <style>\n",
       "    table.eli5-weights tr:hover {\n",
       "        filter: brightness(85%);\n",
       "    }\n",
       "</style>\n",
       "\n",
       "\n",
       "\n",
       "    \n",
       "\n",
       "    \n",
       "\n",
       "    \n",
       "\n",
       "    \n",
       "\n",
       "    \n",
       "\n",
       "    \n",
       "\n",
       "\n",
       "    \n",
       "\n",
       "    \n",
       "\n",
       "    \n",
       "\n",
       "    \n",
       "        \n",
       "\n",
       "    \n",
       "\n",
       "        \n",
       "            \n",
       "                \n",
       "                \n",
       "    \n",
       "        <p style=\"margin-bottom: 0.5em; margin-top: 0em\">\n",
       "            <b>\n",
       "    \n",
       "        y=1\n",
       "    \n",
       "</b>\n",
       "\n",
       "top features\n",
       "        </p>\n",
       "    \n",
       "    <table class=\"eli5-weights\"\n",
       "           style=\"border-collapse: collapse; border: none; margin-top: 0em; table-layout: auto; margin-bottom: 2em;\">\n",
       "        <thead>\n",
       "        <tr style=\"border: none;\">\n",
       "            \n",
       "                <th style=\"padding: 0 1em 0 0.5em; text-align: right; border: none;\" title=\"Feature weights. Note that weights do not account for feature value scales, so if feature values have different scales, features with highest weights might not be the most important.\">\n",
       "                    Weight<sup>?</sup>\n",
       "                </th>\n",
       "            \n",
       "            <th style=\"padding: 0 0.5em 0 0.5em; text-align: left; border: none;\">Feature</th>\n",
       "            \n",
       "        </tr>\n",
       "        </thead>\n",
       "        <tbody>\n",
       "        \n",
       "            <tr style=\"background-color: hsl(120, 100.00%, 80.00%); border: none;\">\n",
       "    <td style=\"padding: 0 1em 0 0.5em; text-align: right; border: none;\">\n",
       "        +33.169\n",
       "    </td>\n",
       "    <td style=\"padding: 0 0.5em 0 0.5em; text-align: left; border: none;\">\n",
       "        great\n",
       "    </td>\n",
       "    \n",
       "</tr>\n",
       "        \n",
       "            <tr style=\"background-color: hsl(120, 100.00%, 80.80%); border: none;\">\n",
       "    <td style=\"padding: 0 1em 0 0.5em; text-align: right; border: none;\">\n",
       "        +31.285\n",
       "    </td>\n",
       "    <td style=\"padding: 0 0.5em 0 0.5em; text-align: left; border: none;\">\n",
       "        love\n",
       "    </td>\n",
       "    \n",
       "</tr>\n",
       "        \n",
       "            <tr style=\"background-color: hsl(120, 100.00%, 85.89%); border: none;\">\n",
       "    <td style=\"padding: 0 1em 0 0.5em; text-align: right; border: none;\">\n",
       "        +20.159\n",
       "    </td>\n",
       "    <td style=\"padding: 0 0.5em 0 0.5em; text-align: left; border: none;\">\n",
       "        good\n",
       "    </td>\n",
       "    \n",
       "</tr>\n",
       "        \n",
       "            <tr style=\"background-color: hsl(120, 100.00%, 89.44%); border: none;\">\n",
       "    <td style=\"padding: 0 1em 0 0.5em; text-align: right; border: none;\">\n",
       "        +13.316\n",
       "    </td>\n",
       "    <td style=\"padding: 0 0.5em 0 0.5em; text-align: left; border: none;\">\n",
       "        best\n",
       "    </td>\n",
       "    \n",
       "</tr>\n",
       "        \n",
       "            <tr style=\"background-color: hsl(120, 100.00%, 89.82%); border: none;\">\n",
       "    <td style=\"padding: 0 1em 0 0.5em; text-align: right; border: none;\">\n",
       "        +12.640\n",
       "    </td>\n",
       "    <td style=\"padding: 0 0.5em 0 0.5em; text-align: left; border: none;\">\n",
       "        coffee\n",
       "    </td>\n",
       "    \n",
       "</tr>\n",
       "        \n",
       "            <tr style=\"background-color: hsl(120, 100.00%, 90.50%); border: none;\">\n",
       "    <td style=\"padding: 0 1em 0 0.5em; text-align: right; border: none;\">\n",
       "        +11.448\n",
       "    </td>\n",
       "    <td style=\"padding: 0 0.5em 0 0.5em; text-align: left; border: none;\">\n",
       "        tea\n",
       "    </td>\n",
       "    \n",
       "</tr>\n",
       "        \n",
       "            <tr style=\"background-color: hsl(120, 100.00%, 91.72%); border: none;\">\n",
       "    <td style=\"padding: 0 1em 0 0.5em; text-align: right; border: none;\">\n",
       "        +9.403\n",
       "    </td>\n",
       "    <td style=\"padding: 0 0.5em 0 0.5em; text-align: left; border: none;\">\n",
       "        treat\n",
       "    </td>\n",
       "    \n",
       "</tr>\n",
       "        \n",
       "        \n",
       "            <tr style=\"background-color: hsl(120, 100.00%, 91.72%); border: none;\">\n",
       "                <td colspan=\"2\" style=\"padding: 0 0.5em 0 0.5em; text-align: center; border: none; white-space: nowrap;\">\n",
       "                    <i>&hellip; 14723 more positive &hellip;</i>\n",
       "                </td>\n",
       "            </tr>\n",
       "        \n",
       "\n",
       "        \n",
       "            <tr style=\"background-color: hsl(0, 100.00%, 91.80%); border: none;\">\n",
       "                <td colspan=\"2\" style=\"padding: 0 0.5em 0 0.5em; text-align: center; border: none; white-space: nowrap;\">\n",
       "                    <i>&hellip; 8202 more negative &hellip;</i>\n",
       "                </td>\n",
       "            </tr>\n",
       "        \n",
       "        \n",
       "            <tr style=\"background-color: hsl(0, 100.00%, 91.80%); border: none;\">\n",
       "    <td style=\"padding: 0 1em 0 0.5em; text-align: right; border: none;\">\n",
       "        -9.274\n",
       "    </td>\n",
       "    <td style=\"padding: 0 0.5em 0 0.5em; text-align: left; border: none;\">\n",
       "        thought\n",
       "    </td>\n",
       "    \n",
       "</tr>\n",
       "        \n",
       "            <tr style=\"background-color: hsl(0, 100.00%, 91.68%); border: none;\">\n",
       "    <td style=\"padding: 0 1em 0 0.5em; text-align: right; border: none;\">\n",
       "        -9.468\n",
       "    </td>\n",
       "    <td style=\"padding: 0 0.5em 0 0.5em; text-align: left; border: none;\">\n",
       "        made\n",
       "    </td>\n",
       "    \n",
       "</tr>\n",
       "        \n",
       "            <tr style=\"background-color: hsl(0, 100.00%, 90.47%); border: none;\">\n",
       "    <td style=\"padding: 0 1em 0 0.5em; text-align: right; border: none;\">\n",
       "        -11.496\n",
       "    </td>\n",
       "    <td style=\"padding: 0 0.5em 0 0.5em; text-align: left; border: none;\">\n",
       "        review\n",
       "    </td>\n",
       "    \n",
       "</tr>\n",
       "        \n",
       "            <tr style=\"background-color: hsl(0, 100.00%, 90.13%); border: none;\">\n",
       "    <td style=\"padding: 0 1em 0 0.5em; text-align: right; border: none;\">\n",
       "        -12.092\n",
       "    </td>\n",
       "    <td style=\"padding: 0 0.5em 0 0.5em; text-align: left; border: none;\">\n",
       "        bad\n",
       "    </td>\n",
       "    \n",
       "</tr>\n",
       "        \n",
       "            <tr style=\"background-color: hsl(0, 100.00%, 89.50%); border: none;\">\n",
       "    <td style=\"padding: 0 1em 0 0.5em; text-align: right; border: none;\">\n",
       "        -13.219\n",
       "    </td>\n",
       "    <td style=\"padding: 0 0.5em 0 0.5em; text-align: left; border: none;\">\n",
       "        box\n",
       "    </td>\n",
       "    \n",
       "</tr>\n",
       "        \n",
       "            <tr style=\"background-color: hsl(0, 100.00%, 89.25%); border: none;\">\n",
       "    <td style=\"padding: 0 1em 0 0.5em; text-align: right; border: none;\">\n",
       "        -13.670\n",
       "    </td>\n",
       "    <td style=\"padding: 0 0.5em 0 0.5em; text-align: left; border: none;\">\n",
       "        taste\n",
       "    </td>\n",
       "    \n",
       "</tr>\n",
       "        \n",
       "            <tr style=\"background-color: hsl(0, 100.00%, 86.49%); border: none;\">\n",
       "    <td style=\"padding: 0 1em 0 0.5em; text-align: right; border: none;\">\n",
       "        -18.935\n",
       "    </td>\n",
       "    <td style=\"padding: 0 0.5em 0 0.5em; text-align: left; border: none;\">\n",
       "        would\n",
       "    </td>\n",
       "    \n",
       "</tr>\n",
       "        \n",
       "            <tr style=\"background-color: hsl(0, 100.00%, 85.55%); border: none;\">\n",
       "    <td style=\"padding: 0 1em 0 0.5em; text-align: right; border: none;\">\n",
       "        -20.851\n",
       "    </td>\n",
       "    <td style=\"padding: 0 0.5em 0 0.5em; text-align: left; border: none;\">\n",
       "        product\n",
       "    </td>\n",
       "    \n",
       "</tr>\n",
       "        \n",
       "\n",
       "        </tbody>\n",
       "    </table>\n",
       "\n",
       "            \n",
       "        \n",
       "\n",
       "        \n",
       "\n",
       "\n",
       "\n",
       "    \n",
       "\n",
       "    \n",
       "\n",
       "    \n",
       "\n",
       "    \n",
       "\n",
       "\n",
       "    \n",
       "\n",
       "    \n",
       "\n",
       "    \n",
       "\n",
       "    \n",
       "\n",
       "    \n",
       "\n",
       "    \n",
       "\n",
       "\n",
       "    \n",
       "\n",
       "    \n",
       "\n",
       "    \n",
       "\n",
       "    \n",
       "\n",
       "    \n",
       "\n",
       "    \n",
       "\n",
       "\n",
       "\n"
      ],
      "text/plain": [
       "<IPython.core.display.HTML object>"
      ]
     },
     "metadata": {},
     "output_type": "display_data"
    },
    {
     "data": {
      "image/png": "[encoded data removed]",
      "text/plain": [
       "<Figure size 1080x288 with 3 Axes>"
      ]
     },
     "metadata": {
      "needs_background": "light"
     },
     "output_type": "display_data"
    }
   ],
   "source": [
    "# As we can see that c = 0.0001 is the right alpha for us in bow\n",
    "final_model(bow_with_other_features_train,ytr,bow_with_other_features_test,ytest,penalty_value='l2',\\\n",
    "           param_value=0.001,vect_type=bow)"
   ]
  },
  {
   "cell_type": "code",
   "execution_count": 51,
   "metadata": {
    "colab": {},
    "colab_type": "code",
    "id": "5crOq6ebgMjc"
   },
   "outputs": [],
   "source": [
    "# splitting the dataframe into train,test,cv dataset \n",
    "from sklearn.model_selection import train_test_split as splitter\n",
    "x_,xtest_,y_,ytest_ = splitter(df1[:10000],final_data['Score'][:10000],test_size = 0.2)\n",
    "xtr_,xcv_,ytr_,ycv_ = splitter(x,y,test_size=0.2)"
   ]
  },
  {
   "cell_type": "code",
   "execution_count": 52,
   "metadata": {
    "colab": {},
    "colab_type": "code",
    "id": "an0LH6jIgMje"
   },
   "outputs": [],
   "source": [
    "#RBF Kernel\n",
    "\n",
    "\"\"\"bow = textfeat.CountVectorizer(min_df = 10,max_features = 500)\n",
    "bow.fit(xtr_['text+summary'])\n",
    "bow_xtr= bow.transform(xtr_['text+summary'])\n",
    "bow_xcv = bow.transform(xcv_['text+summary'])\n",
    "bow_xtest = bow.transform(xtest_['text+summary'])\n",
    "bow_with_other_features_train = mat.hstack([bow_xtr,np.array(xtr_['length']).reshape(xtr_.shape[0],1)]) # reshaping\n",
    "bow_with_other_features_cv = mat.hstack([bow_xcv,np.array(xcv_['length']).reshape(xcv_.shape[0],1)])\n",
    "bow_with_other_features_test = mat.hstack([bow_xtest,np.array(xtest_['length']).reshape(xtest_.shape[0],1)])\"\"\""
   ]
  },
  {
   "cell_type": "code",
   "execution_count": 53,
   "metadata": {
    "colab": {
     "base_uri": "https://localhost:8080/",
     "height": 34
    },
    "colab_type": "code",
    "id": "moi5KaKoyNvT",
    "outputId": "8adfb8c4-c414-4e74-e451-823df0473b67"
   },
   "outputs": [],
   "source": [
    "#finding_right_param_model(bow_with_other_features_train,ytr_,bow_with_other_features_cv,ycv_,classifier = 'rbf')"
   ]
  },
  {
   "cell_type": "code",
   "execution_count": 54,
   "metadata": {
    "colab": {},
    "colab_type": "code",
    "id": "uPzqzCp3gMjl"
   },
   "outputs": [],
   "source": [
    "## final_model(bow_with_other_features_train,ytr_,bow_with_other_features_test,ytest_,classifier = 'rbf',\\\n",
    "#          param_value=0.0001,vect_type=bow)"
   ]
  },
  {
   "cell_type": "markdown",
   "metadata": {
    "colab_type": "text",
    "id": "j1DY5ecsgMjm"
   },
   "source": [
    "### Term Frequency Inverse Document Frequency"
   ]
  },
  {
   "cell_type": "code",
   "execution_count": 55,
   "metadata": {
    "colab": {},
    "colab_type": "code",
    "id": "ZwXypj1KgMjn"
   },
   "outputs": [],
   "source": [
    "#Using Tfidf on text and summary and adding another feature\n",
    "import sklearn.feature_extraction.text as textfeat\n",
    "tfidf = textfeat.TfidfVectorizer(ngram_range=(1,2), min_df=10)\n",
    "tfidf.fit(xtr['text+summary'])\n",
    "tfidf_xtr= tfidf.transform(xtr['text+summary'])\n",
    "tfidf_xcv = tfidf.transform(xcv['text+summary'])\n",
    "tfidf_xtest = tfidf.transform(xtest['text+summary'])"
   ]
  },
  {
   "cell_type": "code",
   "execution_count": 56,
   "metadata": {
    "colab": {},
    "colab_type": "code",
    "id": "tL_uAz8RgMjp"
   },
   "outputs": [],
   "source": [
    "tfidf_with_other_features_train = mat.hstack([tfidf_xtr,np.array(xtr['length']).reshape(xtr.shape[0],1)]) # reshaping\n",
    "tfidf_with_other_features_cv = mat.hstack([tfidf_xcv,np.array(xcv['length']).reshape(xcv.shape[0],1)])\n",
    "tfidf_with_other_features_test = mat.hstack([tfidf_xtest,np.array(xtest['length']).reshape(xtest.shape[0],1)])"
   ]
  },
  {
   "cell_type": "code",
   "execution_count": 57,
   "metadata": {
    "colab": {},
    "colab_type": "code",
    "id": "iEbSlcpugMjr"
   },
   "outputs": [
    {
     "name": "stderr",
     "output_type": "stream",
     "text": [
      "100%|████████████████████████████████████████████████████████████████████████████████████| 5/5 [00:01<00:00,  4.27it/s]\n"
     ]
    },
    {
     "data": {
      "image/png": "[encoded data removed]",
      "text/plain": [
       "<Figure size 432x288 with 1 Axes>"
      ]
     },
     "metadata": {
      "needs_background": "light"
     },
     "output_type": "display_data"
    }
   ],
   "source": [
    "#L1 regularization\n",
    "finding_right_param_model(tfidf_with_other_features_train,ytr,tfidf_with_other_features_cv,ycv,penalty_value='l1')"
   ]
  },
  {
   "cell_type": "code",
   "execution_count": null,
   "metadata": {
    "colab": {},
    "colab_type": "code",
    "id": "diaugr_8gMjt"
   },
   "outputs": [],
   "source": [
    "# As we can see that c = 1 is the right alpha for us in bow\n",
    "final_model(tfidf_with_other_features_train,ytr,tfidf_with_other_features_test,ytest,penalty_value='l1',\\\n",
    "           param_value=0.001,vect_type=tfidf)"
   ]
  },
  {
   "cell_type": "code",
   "execution_count": 59,
   "metadata": {
    "colab": {},
    "colab_type": "code",
    "id": "es1_4vcdgMju"
   },
   "outputs": [
    {
     "name": "stderr",
     "output_type": "stream",
     "text": [
      "100%|████████████████████████████████████████████████████████████████████████████████████| 5/5 [00:01<00:00,  4.95it/s]\n"
     ]
    },
    {
     "data": {
      "image/png": "[encoded data removed]",
      "text/plain": [
       "<Figure size 432x288 with 1 Axes>"
      ]
     },
     "metadata": {
      "needs_background": "light"
     },
     "output_type": "display_data"
    }
   ],
   "source": [
    "#L2 regularization\n",
    "finding_right_param_model(tfidf_with_other_features_train,ytr,tfidf_with_other_features_cv,ycv,penalty_value='l2')"
   ]
  },
  {
   "cell_type": "code",
   "execution_count": 60,
   "metadata": {
    "colab": {},
    "colab_type": "code",
    "id": "a724mGgwgMjx"
   },
   "outputs": [],
   "source": [
    "# As we can see that c = 2 is the right alpha for us in bow\n",
    "#final_model(tfidf_with_other_features_train,ytr,tfidf_with_other_features_test,ytest,penalty_value='l2',\\\n",
    " #           param_value=2,vect_type=tfidf)"
   ]
  },
  {
   "cell_type": "code",
   "execution_count": 61,
   "metadata": {
    "colab": {},
    "colab_type": "code",
    "id": "3aSNau05gMj0"
   },
   "outputs": [
    {
     "data": {
      "text/plain": [
       "\"#RBF kernel\\nimport sklearn.feature_extraction.text as textfeat\\ntfidf = textfeat.TfidfVectorizer(ngram_range=(1,2), min_df=10,max_features = 500)\\ntfidf.fit(xtr_['text+summary'])\\ntfidf_xtr= tfidf.transform(xtr_['text+summary'])\\ntfidf_xcv = tfidf.transform(xcv_['text+summary'])\\ntfidf_xtest = tfidf.transform(xtest_['text+summary'])\\n\\ntfidf_with_other_features_train = mat.hstack([tfidf_xtr,np.array(xtr_['length']).reshape(xtr_.shape[0],1)]) # reshaping\\ntfidf_with_other_features_cv = mat.hstack([tfidf_xcv,np.array(xcv_['length']).reshape(xcv_.shape[0],1)])\\ntfidf_with_other_features_test = mat.hstack([tfidf_xtest,np.array(xtest_['length']).reshape(xtest_.shape[0],1)])\""
      ]
     },
     "execution_count": 61,
     "metadata": {},
     "output_type": "execute_result"
    }
   ],
   "source": [
    "\"\"\"#RBF kernel\n",
    "import sklearn.feature_extraction.text as textfeat\n",
    "tfidf = textfeat.TfidfVectorizer(ngram_range=(1,2), min_df=10,max_features = 500)\n",
    "tfidf.fit(xtr_['text+summary'])\n",
    "tfidf_xtr= tfidf.transform(xtr_['text+summary'])\n",
    "tfidf_xcv = tfidf.transform(xcv_['text+summary'])\n",
    "tfidf_xtest = tfidf.transform(xtest_['text+summary'])\n",
    "\n",
    "tfidf_with_other_features_train = mat.hstack([tfidf_xtr,np.array(xtr_['length']).reshape(xtr_.shape[0],1)]) # reshaping\n",
    "tfidf_with_other_features_cv = mat.hstack([tfidf_xcv,np.array(xcv_['length']).reshape(xcv_.shape[0],1)])\n",
    "tfidf_with_other_features_test = mat.hstack([tfidf_xtest,np.array(xtest_['length']).reshape(xtest_.shape[0],1)])\"\"\""
   ]
  },
  {
   "cell_type": "code",
   "execution_count": 62,
   "metadata": {
    "colab": {},
    "colab_type": "code",
    "id": "ZLmjk2lUgMj4"
   },
   "outputs": [],
   "source": [
    "#finding_right_param_model(tfidf_with_other_features_train,ytr_,tfidf_with_other_features_cv,ycv_,classifier = 'rbf')"
   ]
  },
  {
   "cell_type": "code",
   "execution_count": 63,
   "metadata": {
    "colab": {},
    "colab_type": "code",
    "id": "65RU9yW0gMj5"
   },
   "outputs": [],
   "source": [
    "#final_model(tfidf_with_other_features_train,ytr_,tfidf_with_other_features_test,ytest_,classifier = 'rbf',\\\n",
    " #           param_value=2,vect_type=tfidf)"
   ]
  },
  {
   "cell_type": "markdown",
   "metadata": {
    "colab_type": "text",
    "id": "ncOmytIRgMj8"
   },
   "source": [
    "### AVG W2V"
   ]
  },
  {
   "cell_type": "code",
   "execution_count": 64,
   "metadata": {
    "colab": {},
    "colab_type": "code",
    "id": "lZbbvt-5gMj8"
   },
   "outputs": [],
   "source": [
    "word_2_vec = Word2Vec(xtr['text+summary'],size= 40,min_count=4,workers=4)"
   ]
  },
  {
   "cell_type": "code",
   "execution_count": 65,
   "metadata": {
    "colab": {},
    "colab_type": "code",
    "id": "3j7trO4IgMj-",
    "scrolled": true
   },
   "outputs": [
    {
     "name": "stderr",
     "output_type": "stream",
     "text": [
      "100%|███████████████████████████████████████████████████████████████████████████| 12386/12386 [00:44<00:00, 280.52it/s]\n"
     ]
    }
   ],
   "source": [
    "xtr_vec = []\n",
    "for sentence in tqdm(xtr['text+summary']):\n",
    "    word_vec = np.zeros(40)\n",
    "    cnt_words = 0\n",
    "    for wor in sentence:\n",
    "        if wor in word_2_vec:\n",
    "            wor_vec = word_2_vec.wv[wor]\n",
    "            word_vec = word_vec+wor_vec\n",
    "            cnt_words += 1\n",
    "    if cnt_words != 0:\n",
    "        sen_vec = word_vec/cnt_words\n",
    "    xtr_vec.append(sen_vec)"
   ]
  },
  {
   "cell_type": "code",
   "execution_count": 66,
   "metadata": {
    "colab": {},
    "colab_type": "code",
    "id": "CLBAf5H2gMkC"
   },
   "outputs": [
    {
     "name": "stderr",
     "output_type": "stream",
     "text": [
      "100%|█████████████████████████████████████████████████████████████████████████████| 3097/3097 [00:11<00:00, 266.03it/s]\n"
     ]
    }
   ],
   "source": [
    "xcv_vec = []\n",
    "for sentence in tqdm(xcv['text+summary']):\n",
    "    word_vec = np.zeros(40)\n",
    "    cnt_words = 0\n",
    "    for wor in sentence:\n",
    "        if wor in word_2_vec:\n",
    "            wor_vec = word_2_vec.wv[wor]\n",
    "            word_vec = word_vec+wor_vec\n",
    "            cnt_words += 1\n",
    "    if cnt_words != 0:\n",
    "        sen_vec = word_vec/cnt_words\n",
    "    xcv_vec.append(sen_vec)"
   ]
  },
  {
   "cell_type": "code",
   "execution_count": 67,
   "metadata": {
    "colab": {},
    "colab_type": "code",
    "id": "NX5k6LfcgMkD"
   },
   "outputs": [
    {
     "name": "stderr",
     "output_type": "stream",
     "text": [
      "100%|█████████████████████████████████████████████████████████████████████████████| 3871/3871 [00:12<00:00, 322.45it/s]\n"
     ]
    }
   ],
   "source": [
    "xtest_vec = []\n",
    "for sentence in tqdm(xtest['text+summary']):\n",
    "    word_vec = np.zeros(40)\n",
    "    cnt_words = 0\n",
    "    for wor in sentence:\n",
    "        if wor in word_2_vec:\n",
    "            wor_vec = word_2_vec.wv[wor]\n",
    "            word_vec = word_vec+wor_vec\n",
    "            cnt_words += 1\n",
    "    if cnt_words != 0:\n",
    "        sen_vec = word_vec/cnt_words\n",
    "    xtest_vec.append(sen_vec)"
   ]
  },
  {
   "cell_type": "code",
   "execution_count": 68,
   "metadata": {
    "colab": {},
    "colab_type": "code",
    "id": "GRdSyj1NgMkF"
   },
   "outputs": [],
   "source": [
    "w2v_with_other_features_train = mat.hstack([np.array(xtr_vec),np.array(xtr['length']).resize(xtr.shape[0],1)]) # reshaping\n",
    "w2v_with_other_features_cv = mat.hstack([np.array(xcv_vec),np.array(xcv['length']).resize(xcv.shape[0],1)])\n",
    "w2v_with_other_features_test = mat.hstack([np.array(xtest_vec),np.array(xtest['length']).resize(xtest.shape[0],1)])"
   ]
  },
  {
   "cell_type": "code",
   "execution_count": 69,
   "metadata": {
    "colab": {},
    "colab_type": "code",
    "id": "oOWRks6FgMkH"
   },
   "outputs": [
    {
     "name": "stderr",
     "output_type": "stream",
     "text": [
      "100%|████████████████████████████████████████████████████████████████████████████████████| 5/5 [00:00<00:00,  5.54it/s]\n"
     ]
    },
    {
     "data": {
      "image/png": "[encoded data removed]",
      "text/plain": [
       "<Figure size 432x288 with 1 Axes>"
      ]
     },
     "metadata": {
      "needs_background": "light"
     },
     "output_type": "display_data"
    }
   ],
   "source": [
    "#L1 regularization\n",
    "finding_right_param_model(w2v_with_other_features_train,ytr,w2v_with_other_features_cv,ycv,penalty_value='l1')"
   ]
  },
  {
   "cell_type": "code",
   "execution_count": null,
   "metadata": {
    "colab": {},
    "colab_type": "code",
    "id": "s9dwD5C0gMkJ"
   },
   "outputs": [],
   "source": [
    "# As we can see that c = 1 is the right alpha for us in bow\n",
    "final_model(w2v_with_other_features_train,ytr,w2v_with_other_features_test,ytest,penalty_value='l1',\\\n",
    "            param_value=0.01)"
   ]
  },
  {
   "cell_type": "code",
   "execution_count": 71,
   "metadata": {
    "colab": {},
    "colab_type": "code",
    "id": "NzUkTDW2gMkL"
   },
   "outputs": [
    {
     "name": "stderr",
     "output_type": "stream",
     "text": [
      "100%|████████████████████████████████████████████████████████████████████████████████████| 5/5 [00:00<00:00,  6.40it/s]\n"
     ]
    },
    {
     "data": {
      "image/png": "[encoded data removed]",
      "text/plain": [
       "<Figure size 432x288 with 1 Axes>"
      ]
     },
     "metadata": {
      "needs_background": "light"
     },
     "output_type": "display_data"
    }
   ],
   "source": [
    "#L2 regularization\n",
    "finding_right_param_model(w2v_with_other_features_train,ytr,w2v_with_other_features_cv,ycv,penalty_value='l2')"
   ]
  },
  {
   "cell_type": "code",
   "execution_count": 72,
   "metadata": {
    "colab": {},
    "colab_type": "code",
    "id": "pmo4D9EPgMkN"
   },
   "outputs": [],
   "source": [
    "# As we can see that c = 2 is the right alpha for us in bow\n",
    "#final_model(w2v_with_other_features_train,ytr,w2v_with_other_features_test,ytest,penalty_value='l2',\\\n",
    " #           param_value=2)"
   ]
  },
  {
   "cell_type": "code",
   "execution_count": 73,
   "metadata": {
    "colab": {},
    "colab_type": "code",
    "id": "o5CoezZbgMkO"
   },
   "outputs": [],
   "source": [
    "#RBF kernel\n",
    "#finding_right_param_model(w2v_with_other_features_train,ytr,w2v_with_other_features_cv,ycv,classifier = 'rbf')"
   ]
  },
  {
   "cell_type": "code",
   "execution_count": 74,
   "metadata": {
    "colab": {},
    "colab_type": "code",
    "id": "J_Rfm4dpgMkP"
   },
   "outputs": [],
   "source": [
    "# As we can see that c = 2 is the right alpha for us in bow\n",
    "#final_model(w2v_with_other_features_train,ytr,w2v_with_other_features_test,ytest,classifier = 'rbf'\\\n",
    " #           param_value=2)"
   ]
  },
  {
   "cell_type": "markdown",
   "metadata": {
    "colab_type": "text",
    "id": "xrFxakcmgMkR"
   },
   "source": [
    "### TFIDF-w2v"
   ]
  },
  {
   "cell_type": "code",
   "execution_count": 77,
   "metadata": {
    "colab": {},
    "colab_type": "code",
    "id": "SkvkXXMHgMkS",
    "scrolled": true
   },
   "outputs": [
    {
     "data": {
      "text/plain": [
       "\"model = textfeat.TfidfVectorizer()\\ntf_idf_matrix = model.fit_transform(cleaned_text)\\n# we are converting a dictionary with word as a key, and the idf as a value\\ndictionary = dict(zip(model.get_feature_names(), list(model.idf_)))\\n\\n# TF-IDF weighted Word2Vec\\ntfidf_feat = model.get_feature_names() # tfidf words/col-names\\n# final_tf_idf is the sparse matrix with row= sentence, col=word and cell_val = tfidf\\n\\ntfidf_sent_vectors_train = []; # the tfidf-w2v for each sentence/review is stored in this list\\nfor sent in tqdm(xtr['text+summary']): # for each review/sentence \\n    sent_vec = np.zeros(40) # as word vectors are of zero length\\n    weight_sum =0; # num of words with a valid vector in the sentence/review\\n    for word in sent: # for each word in a review/sentence\\n        if word in word_2_vec and word in tfidf_feat:\\n            vec = word_2_vec.wv[word]\\n#             tf_idf = tf_idf_matrix[row, tfidf_feat.index(word)]\\n            # to reduce the computation we are \\n            # dictionary[word] = idf value of word in whole courpus\\n            # sent.count(word) = tf valeus of word in this review\\n            tf_idf = dictionary[word]*(sent.count(word)/len(sent))\\n            sent_vec += (vec * tf_idf)\\n            weight_sum += tf_idf\\n    if weight_sum != 0:\\n        sent_vec /= weight_sum\\n    tfidf_sent_vectors_train.append(sent_vec)\\n\\n\\ntfidf_sent_vectors_cv = []; # the tfidf-w2v for each sentence/review is stored in this list\\nfor sent in tqdm(xcv['text+summary']): # for each review/sentence \\n    sent_vec = np.zeros(40) # as word vectors are of zero length\\n    weight_sum =0; # num of words with a valid vector in the sentence/review\\n    for word in sent: # for each word in a review/sentence\\n        if word in word_2_vec and word in tfidf_feat:\\n            vec = word_2_vec.wv[word]\\n            #  tf_idf = tf_idf_matrix[row, tfidf_feat.index(word)]\\n            # to reduce the computation we are \\n            # dictionary[word] = idf value of word in whole courpus\\n            # sent.count(word) = tf valeus of word in this review\\n            tf_idf = dictionary[word]*(sent.count(word)/len(sent))\\n            sent_vec += (vec * tf_idf)\\n            weight_sum += tf_idf\\n    if weight_sum != 0:\\n        sent_vec /= weight_sum\\n    tfidf_sent_vectors_cv.append(sent_vec)\\n    \\ntfidf_sent_vectors_test = []; # the tfidf-w2v for each sentence/review is stored in this list\\nfor sent in tqdm(xtest['text+summary']): # for each review/sentence \\n    sent_vec = np.zeros(40) # as word vectors are of zero length\\n    weight_sum =0; # num of words with a valid vector in the sentence/review\\n    for word in sent: # for each word in a review/sentence\\n        if word in word_2_vec and word in tfidf_feat:\\n            vec = word_2_vec.wv[word]\\n#             tf_idf = tf_idf_matrix[row, tfidf_feat.index(word)]\\n            # to reduce the computation we are \\n            # dictionary[word] = idf value of word in whole courpus\\n            # sent.count(word) = tf valeus of word in this review\\n            tf_idf = dictionary[word]*(sent.count(word)/len(sent))\\n            sent_vec += (vec * tf_idf)\\n            weight_sum += tf_idf\\n    if weight_sum != 0:\\n        sent_vec /= weight_sum\\n    tfidf_sent_vectors_test.append(sent_vec)\\n\""
      ]
     },
     "execution_count": 77,
     "metadata": {},
     "output_type": "execute_result"
    }
   ],
   "source": [
    "\"\"\"model = textfeat.TfidfVectorizer()\n",
    "tf_idf_matrix = model.fit_transform(cleaned_text)\n",
    "# we are converting a dictionary with word as a key, and the idf as a value\n",
    "dictionary = dict(zip(model.get_feature_names(), list(model.idf_)))\n",
    "\n",
    "# TF-IDF weighted Word2Vec\n",
    "tfidf_feat = model.get_feature_names() # tfidf words/col-names\n",
    "# final_tf_idf is the sparse matrix with row= sentence, col=word and cell_val = tfidf\n",
    "\n",
    "tfidf_sent_vectors_train = []; # the tfidf-w2v for each sentence/review is stored in this list\n",
    "for sent in tqdm(xtr['text+summary']): # for each review/sentence \n",
    "    sent_vec = np.zeros(40) # as word vectors are of zero length\n",
    "    weight_sum =0; # num of words with a valid vector in the sentence/review\n",
    "    for word in sent: # for each word in a review/sentence\n",
    "        if word in word_2_vec and word in tfidf_feat:\n",
    "            vec = word_2_vec.wv[word]\n",
    "#             tf_idf = tf_idf_matrix[row, tfidf_feat.index(word)]\n",
    "            # to reduce the computation we are \n",
    "            # dictionary[word] = idf value of word in whole courpus\n",
    "            # sent.count(word) = tf valeus of word in this review\n",
    "            tf_idf = dictionary[word]*(sent.count(word)/len(sent))\n",
    "            sent_vec += (vec * tf_idf)\n",
    "            weight_sum += tf_idf\n",
    "    if weight_sum != 0:\n",
    "        sent_vec /= weight_sum\n",
    "    tfidf_sent_vectors_train.append(sent_vec)\n",
    "\n",
    "\n",
    "tfidf_sent_vectors_cv = []; # the tfidf-w2v for each sentence/review is stored in this list\n",
    "for sent in tqdm(xcv['text+summary']): # for each review/sentence \n",
    "    sent_vec = np.zeros(40) # as word vectors are of zero length\n",
    "    weight_sum =0; # num of words with a valid vector in the sentence/review\n",
    "    for word in sent: # for each word in a review/sentence\n",
    "        if word in word_2_vec and word in tfidf_feat:\n",
    "            vec = word_2_vec.wv[word]\n",
    "            #  tf_idf = tf_idf_matrix[row, tfidf_feat.index(word)]\n",
    "            # to reduce the computation we are \n",
    "            # dictionary[word] = idf value of word in whole courpus\n",
    "            # sent.count(word) = tf valeus of word in this review\n",
    "            tf_idf = dictionary[word]*(sent.count(word)/len(sent))\n",
    "            sent_vec += (vec * tf_idf)\n",
    "            weight_sum += tf_idf\n",
    "    if weight_sum != 0:\n",
    "        sent_vec /= weight_sum\n",
    "    tfidf_sent_vectors_cv.append(sent_vec)\n",
    "    \n",
    "tfidf_sent_vectors_test = []; # the tfidf-w2v for each sentence/review is stored in this list\n",
    "for sent in tqdm(xtest['text+summary']): # for each review/sentence \n",
    "    sent_vec = np.zeros(40) # as word vectors are of zero length\n",
    "    weight_sum =0; # num of words with a valid vector in the sentence/review\n",
    "    for word in sent: # for each word in a review/sentence\n",
    "        if word in word_2_vec and word in tfidf_feat:\n",
    "            vec = word_2_vec.wv[word]\n",
    "#             tf_idf = tf_idf_matrix[row, tfidf_feat.index(word)]\n",
    "            # to reduce the computation we are \n",
    "            # dictionary[word] = idf value of word in whole courpus\n",
    "            # sent.count(word) = tf valeus of word in this review\n",
    "            tf_idf = dictionary[word]*(sent.count(word)/len(sent))\n",
    "            sent_vec += (vec * tf_idf)\n",
    "            weight_sum += tf_idf\n",
    "    if weight_sum != 0:\n",
    "        sent_vec /= weight_sum\n",
    "    tfidf_sent_vectors_test.append(sent_vec)\n",
    "\"\"\""
   ]
  },
  {
   "cell_type": "code",
   "execution_count": null,
   "metadata": {
    "colab": {},
    "colab_type": "code",
    "id": "4CFSxKmpgMkW"
   },
   "outputs": [],
   "source": [
    "\"\"\"tfidf_w2v_with_other_features_train = mat.hstack([np.array(tfidf_sent_vectors_train),np.array(xtr['length'])\\\n",
    "                                                  .resize(xtr.shape[0],1)])\n",
    "tfidf_w2v_with_other_features_cv = mat.hstack([np.array(tfidf_sent_vectors_cv),np.array(xcv['length']).resize(xcv.shape[0],1)])\n",
    "tfidf_w2v_with_other_features_test = mat.hstack([np.array(tfidf_sent_vectors_test),np.array(xtest['length']).\\\n",
    "                                                 resize(xtest.shape[0],1)])\"\"\""
   ]
  },
  {
   "cell_type": "code",
   "execution_count": null,
   "metadata": {
    "colab": {},
    "colab_type": "code",
    "id": "umblMTJogMkY"
   },
   "outputs": [],
   "source": [
    "#L1 regularization\n",
    "#finding_right_param_model(tfidf_w2v_with_other_features_train,ytr,tfidf_w2v_with_other_features_cv,ycv,penalty_value='l1')"
   ]
  },
  {
   "cell_type": "code",
   "execution_count": null,
   "metadata": {
    "colab": {},
    "colab_type": "code",
    "id": "iq5BDKjegMkZ"
   },
   "outputs": [],
   "source": [
    "# As we can see that c = 0.01 is the right alpha for us in bow\n",
    "#final_model(tfidf_w2v_with_other_features_train,ytr,tfidf_w2v_with_other_features_test,ytest,penalty_value='l1',\\\n",
    "            param_value=0.1)"
   ]
  },
  {
   "cell_type": "code",
   "execution_count": null,
   "metadata": {
    "colab": {},
    "colab_type": "code",
    "id": "m-p19duCgMka"
   },
   "outputs": [],
   "source": [
    "#L2 regularization\n",
    "#finding_right_param_model(tfidf_w2v_with_other_features_train,ytr,tfidf_w2v_with_other_features_cv,ycv,penalty_value='l2')"
   ]
  },
  {
   "cell_type": "code",
   "execution_count": null,
   "metadata": {
    "colab": {},
    "colab_type": "code",
    "id": "bXAQFKjogMkc"
   },
   "outputs": [],
   "source": [
    "# As we can see that c = 0.01 is the right alpha for us in bow\n",
    "#final_model(tfidf_w2v_with_other_features_train,ytr,tfidf_w2v_with_other_features_test,ytest,penalty_value='l2',\\\n",
    " #           param_value=0.1)\"\""
   ]
  },
  {
   "cell_type": "code",
   "execution_count": null,
   "metadata": {
    "colab": {},
    "colab_type": "code",
    "id": "QNSXzlZ6gMke"
   },
   "outputs": [],
   "source": [
    "#RBF kernel\n",
    "#finding_right_param_model(tfidf_w2v_with_other_features_train,ytr,tfidf_w2v_with_other_features_cv,ycv,classifier = 'rbf')"
   ]
  },
  {
   "cell_type": "code",
   "execution_count": null,
   "metadata": {
    "colab": {},
    "colab_type": "code",
    "id": "5wt_H59kgMkg"
   },
   "outputs": [],
   "source": [
    "# As we can see that c = 0.01 is the right alpha for us in bow\n",
    "#final_model(tfidf_w2v_with_other_features_train,ytr,tfidf_w2v_with_other_features_test,ytest,classifier = 'rbf',\\\n",
    " #           param_value=0.1)"
   ]
  },
  {
   "cell_type": "markdown",
   "metadata": {
    "colab_type": "text",
    "id": "SVDU_fWDgMki"
   },
   "source": [
    "### Conclusion"
   ]
  },
  {
   "cell_type": "code",
   "execution_count": null,
   "metadata": {
    "colab": {},
    "colab_type": "code",
    "id": "S7-o25bhgMkj"
   },
   "outputs": [],
   "source": [
    "Performs really good on large dataset"
   ]
  }
 ],
 "metadata": {
  "accelerator": "GPU",
  "colab": {
   "collapsed_sections": [
    "j1DY5ecsgMjm",
    "ncOmytIRgMj8",
    "xrFxakcmgMkR",
    "SVDU_fWDgMki"
   ],
   "name": "Assignment_7a.ipynb",
   "provenance": [],
   "version": "0.3.2"
  },
  "kernelspec": {
   "display_name": "Python 3",
   "language": "python",
   "name": "python3"
  },
  "language_info": {
   "codemirror_mode": {
    "name": "ipython",
    "version": 3
   },
   "file_extension": ".py",
   "mimetype": "text/x-python",
   "name": "python",
   "nbconvert_exporter": "python",
   "pygments_lexer": "ipython3",
   "version": "3.6.8"
  }
 },
 "nbformat": 4,
 "nbformat_minor": 1
}
